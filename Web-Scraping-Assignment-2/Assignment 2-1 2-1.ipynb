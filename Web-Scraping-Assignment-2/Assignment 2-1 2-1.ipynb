{
 "cells": [
  {
   "cell_type": "code",
   "execution_count": 259,
   "id": "3189ee96",
   "metadata": {},
   "outputs": [],
   "source": [
    "import pandas as pd\n",
    "from selenium import webdriver\n",
    "from selenium.webdriver.common.by import By\n",
    "from selenium.webdriver.common.keys import Keys\n",
    "import time\n",
    "from selenium.webdriver.support.ui import WebDriverWait\n",
    "from selenium.webdriver.support import expected_conditions as EC\n",
    "from selenium.common.exceptions import NoSuchElementException, NoSuchWindowException"
   ]
  },
  {
   "cell_type": "markdown",
   "id": "accb8608",
   "metadata": {},
   "source": [
    "# Question 1"
   ]
  },
  {
   "cell_type": "code",
   "execution_count": 88,
   "id": "5b3721a0",
   "metadata": {},
   "outputs": [],
   "source": [
    "# Set up the driver\n",
    "driver = webdriver.Chrome()\n",
    "\n",
    "\n",
    "# Load the webpage\n",
    "driver.get(\"https://www.shine.com/\")"
   ]
  },
  {
   "cell_type": "code",
   "execution_count": 89,
   "id": "c3b55542",
   "metadata": {},
   "outputs": [],
   "source": [
    "# Click the close button\n",
    "wait = WebDriverWait(driver, 16)\n",
    "\n",
    "close_button = wait.until(EC.visibility_of_element_located((By.XPATH, '/html/body/div[1]/div[2]/div/div/button')))\n",
    "close_button.click()"
   ]
  },
  {
   "cell_type": "code",
   "execution_count": 90,
   "id": "344e355c",
   "metadata": {
    "scrolled": true
   },
   "outputs": [],
   "source": [
    "# Click the search button\n",
    "search_button = driver.find_element(By.XPATH, \"/html/body/div[1]/header[1]/div[3]/div/div/div[1]/div/input\")\n",
    "search_button.click()"
   ]
  },
  {
   "cell_type": "code",
   "execution_count": 92,
   "id": "1e783162",
   "metadata": {},
   "outputs": [],
   "source": [
    "# Enter \"Data Analyst\" in the \"Skill, Designations, Companies\" field\n",
    "skills_field = driver.find_element(By.XPATH, \"/html/body/div[1]/div[4]/div/div[2]/div[2]/div/form/div/div[1]/ul/li[1]/div/input\")\n",
    "skills_field.send_keys(\"Data Analyst\")"
   ]
  },
  {
   "cell_type": "code",
   "execution_count": 93,
   "id": "aa499d6b",
   "metadata": {},
   "outputs": [],
   "source": [
    "# Enter \"Bangalore\" in the \"enter the location\" field\n",
    "location_field = driver.find_element(By.XPATH, \"/html/body/div[1]/div[4]/div/div[2]/div[2]/div/form/div/div[1]/ul/li[2]/div/input\")\n",
    "location_field.send_keys(\"Bangalore\")"
   ]
  },
  {
   "cell_type": "code",
   "execution_count": 94,
   "id": "fb2d9302",
   "metadata": {},
   "outputs": [],
   "source": [
    "# Click the search button\n",
    "search_button = driver.find_element(By.XPATH, \"/html/body/div[1]/div[4]/div/div[2]/div[2]/div/form/div/div[2]/div/button\")\n",
    "search_button.click()"
   ]
  },
  {
   "cell_type": "code",
   "execution_count": 95,
   "id": "6ccfef38",
   "metadata": {},
   "outputs": [],
   "source": [
    "# Create Lists\n",
    "job_titles = []\n",
    "job_locations = []\n",
    "company_names = []\n",
    "experience_required = []"
   ]
  },
  {
   "cell_type": "code",
   "execution_count": 96,
   "id": "36e58a85",
   "metadata": {},
   "outputs": [],
   "source": [
    "# Scrape the data for the first 10 jobs\n",
    "\n",
    "total_listings = 20\n",
    "\n",
    "for i in range(1, min(11, total_listings + 1)):\n",
    "    job_title_element = driver.find_element(By.XPATH, f\"(//h2[@itemprop='name'])[{i}]\")\n",
    "    job_titles.append(job_title_element.text)\n",
    "\n",
    "    job_location_element = driver.find_element(By.XPATH, f\"(//div[@class=' jobCard_jobCard_lists_item__YxRkV jobCard_locationIcon__zrWt2'])[{i}]\")\n",
    "    job_locations.append(job_location_element.text)\n",
    "\n",
    "    company_name_element = driver.find_element(By.XPATH, f\"(//div[@class='jobCard_jobCard_cName__mYnow'])[{i}]\")\n",
    "    company_names.append(company_name_element.text)\n",
    "\n",
    "    experience_required_element = driver.find_element(By.XPATH, f\"(//div[@class=' jobCard_jobCard_lists_item__YxRkV jobCard_jobIcon__3FB1t'])[{i}]\")\n",
    "    experience_required.append(experience_required_element.text)\n"
   ]
  },
  {
   "cell_type": "code",
   "execution_count": 97,
   "id": "b8780f49",
   "metadata": {},
   "outputs": [],
   "source": [
    "# Create a dataframe from the data\n",
    "data = {\n",
    "    'Job Title': job_titles,\n",
    "    'Job Location': job_locations,\n",
    "    'Company Name': company_names,\n",
    "    'Experience Required': experience_required\n",
    "}"
   ]
  },
  {
   "cell_type": "code",
   "execution_count": 98,
   "id": "4c3454b4",
   "metadata": {},
   "outputs": [
    {
     "data": {
      "text/html": [
       "<div>\n",
       "<style scoped>\n",
       "    .dataframe tbody tr th:only-of-type {\n",
       "        vertical-align: middle;\n",
       "    }\n",
       "\n",
       "    .dataframe tbody tr th {\n",
       "        vertical-align: top;\n",
       "    }\n",
       "\n",
       "    .dataframe thead th {\n",
       "        text-align: right;\n",
       "    }\n",
       "</style>\n",
       "<table border=\"1\" class=\"dataframe\">\n",
       "  <thead>\n",
       "    <tr style=\"text-align: right;\">\n",
       "      <th></th>\n",
       "      <th>Job Title</th>\n",
       "      <th>Job Location</th>\n",
       "      <th>Company Name</th>\n",
       "      <th>Experience Required</th>\n",
       "    </tr>\n",
       "  </thead>\n",
       "  <tbody>\n",
       "    <tr>\n",
       "      <th>0</th>\n",
       "      <td>Data Analyst</td>\n",
       "      <td>Bangalore</td>\n",
       "      <td>acme services private limited</td>\n",
       "      <td>2 to 5 Yrs</td>\n",
       "    </tr>\n",
       "    <tr>\n",
       "      <th>1</th>\n",
       "      <td>Data Analyst</td>\n",
       "      <td>Bangalore</td>\n",
       "      <td>acme services private limited</td>\n",
       "      <td>2 to 5 Yrs</td>\n",
       "    </tr>\n",
       "    <tr>\n",
       "      <th>2</th>\n",
       "      <td>Data Analyst</td>\n",
       "      <td>Bangalore\\n+1</td>\n",
       "      <td>orcapod consulting services pvt. lt...</td>\n",
       "      <td>2 to 4 Yrs</td>\n",
       "    </tr>\n",
       "    <tr>\n",
       "      <th>3</th>\n",
       "      <td>We have requirement for Data Analyst - Associa...</td>\n",
       "      <td>Bangalore</td>\n",
       "      <td>pricewaterhousecoopers (pwc)</td>\n",
       "      <td>4 to 6 Yrs</td>\n",
       "    </tr>\n",
       "    <tr>\n",
       "      <th>4</th>\n",
       "      <td>Data Analyst-Bangalore</td>\n",
       "      <td>Bangalore\\n+1</td>\n",
       "      <td>acura solutions.</td>\n",
       "      <td>4 to 6 Yrs</td>\n",
       "    </tr>\n",
       "    <tr>\n",
       "      <th>5</th>\n",
       "      <td>Cloud/D&amp;A/Microsoft/AI - Data Analyst</td>\n",
       "      <td>Bangalore</td>\n",
       "      <td>vega intellisoft private limited</td>\n",
       "      <td>4 to 8 Yrs</td>\n",
       "    </tr>\n",
       "    <tr>\n",
       "      <th>6</th>\n",
       "      <td>Endurance Data Analyst</td>\n",
       "      <td>Bangalore</td>\n",
       "      <td>mercede</td>\n",
       "      <td>1 to 5 Yrs</td>\n",
       "    </tr>\n",
       "    <tr>\n",
       "      <th>7</th>\n",
       "      <td>Consultant - Data Analyst - Data Analytics</td>\n",
       "      <td>Bangalore</td>\n",
       "      <td>pylon management consulting</td>\n",
       "      <td>4 to 5 Yrs</td>\n",
       "    </tr>\n",
       "    <tr>\n",
       "      <th>8</th>\n",
       "      <td>We have requirement for Client Data Analyst</td>\n",
       "      <td>Bangalore</td>\n",
       "      <td>jpmorgan</td>\n",
       "      <td>5 to 8 Yrs</td>\n",
       "    </tr>\n",
       "    <tr>\n",
       "      <th>9</th>\n",
       "      <td>Urgent Requirement for Reference Data Analyst ...</td>\n",
       "      <td>Bangalore</td>\n",
       "      <td>jpmorgan</td>\n",
       "      <td>2 to 4 Yrs</td>\n",
       "    </tr>\n",
       "  </tbody>\n",
       "</table>\n",
       "</div>"
      ],
      "text/plain": [
       "                                           Job Title   Job Location  \\\n",
       "0                                       Data Analyst      Bangalore   \n",
       "1                                       Data Analyst      Bangalore   \n",
       "2                                       Data Analyst  Bangalore\\n+1   \n",
       "3  We have requirement for Data Analyst - Associa...      Bangalore   \n",
       "4                             Data Analyst-Bangalore  Bangalore\\n+1   \n",
       "5              Cloud/D&A/Microsoft/AI - Data Analyst      Bangalore   \n",
       "6                             Endurance Data Analyst      Bangalore   \n",
       "7         Consultant - Data Analyst - Data Analytics      Bangalore   \n",
       "8        We have requirement for Client Data Analyst      Bangalore   \n",
       "9  Urgent Requirement for Reference Data Analyst ...      Bangalore   \n",
       "\n",
       "                             Company Name Experience Required  \n",
       "0           acme services private limited          2 to 5 Yrs  \n",
       "1           acme services private limited          2 to 5 Yrs  \n",
       "2  orcapod consulting services pvt. lt...          2 to 4 Yrs  \n",
       "3            pricewaterhousecoopers (pwc)          4 to 6 Yrs  \n",
       "4                        acura solutions.          4 to 6 Yrs  \n",
       "5        vega intellisoft private limited          4 to 8 Yrs  \n",
       "6                                 mercede          1 to 5 Yrs  \n",
       "7             pylon management consulting          4 to 5 Yrs  \n",
       "8                                jpmorgan          5 to 8 Yrs  \n",
       "9                                jpmorgan          2 to 4 Yrs  "
      ]
     },
     "execution_count": 98,
     "metadata": {},
     "output_type": "execute_result"
    }
   ],
   "source": [
    "# Display DataFrame\n",
    "\n",
    "df = pd.DataFrame(data)\n",
    "\n",
    "df"
   ]
  },
  {
   "cell_type": "code",
   "execution_count": 99,
   "id": "9134503c",
   "metadata": {},
   "outputs": [],
   "source": [
    "# Quit the browser\n",
    "driver.quit()"
   ]
  },
  {
   "cell_type": "markdown",
   "id": "b8ecd837",
   "metadata": {},
   "source": [
    "# Question 2"
   ]
  },
  {
   "cell_type": "code",
   "execution_count": 132,
   "id": "be2a5471",
   "metadata": {},
   "outputs": [],
   "source": [
    "# Set up the driver\n",
    "driver = webdriver.Chrome()\n",
    "\n",
    "\n",
    "# Load the webpage\n",
    "driver.get(\"https://www.shine.com/\")\n"
   ]
  },
  {
   "cell_type": "code",
   "execution_count": 133,
   "id": "82d6c3ba",
   "metadata": {},
   "outputs": [],
   "source": [
    "# Click the close button\n",
    "wait = WebDriverWait(driver, 16)\n",
    "\n",
    "close_button = wait.until(EC.visibility_of_element_located((By.XPATH, '/html/body/div[1]/div[2]/div/div/button')))\n",
    "close_button.click()"
   ]
  },
  {
   "cell_type": "code",
   "execution_count": 134,
   "id": "216aabb7",
   "metadata": {
    "scrolled": true
   },
   "outputs": [],
   "source": [
    "# Click the search button\n",
    "search_button = driver.find_element(By.XPATH, \"/html/body/div[1]/header[1]/div[3]/div/div/div[1]/div/input\")\n",
    "search_button.click()"
   ]
  },
  {
   "cell_type": "code",
   "execution_count": 135,
   "id": "286b53ea",
   "metadata": {},
   "outputs": [],
   "source": [
    "# Enter \"Data Scientist\" in the \"Skill, Designations, Companies\" field\n",
    "skills_field = driver.find_element(By.XPATH, \"/html/body/div[1]/div[4]/div/div[2]/div[2]/div/form/div/div[1]/ul/li[1]/div/input\")\n",
    "skills_field.send_keys(\"Data Scientist\")"
   ]
  },
  {
   "cell_type": "code",
   "execution_count": 136,
   "id": "16e73402",
   "metadata": {},
   "outputs": [],
   "source": [
    "# Enter \"Bangalore\" in the \"enter the location\" field\n",
    "location_field = driver.find_element(By.XPATH, \"/html/body/div[1]/div[4]/div/div[2]/div[2]/div/form/div/div[1]/ul/li[2]/div/input\")\n",
    "location_field.send_keys(\"Bangalore\")"
   ]
  },
  {
   "cell_type": "code",
   "execution_count": 137,
   "id": "a6c3aed3",
   "metadata": {},
   "outputs": [],
   "source": [
    "# Click the search button\n",
    "search_button = driver.find_element(By.XPATH, \"/html/body/div[1]/div[4]/div/div[2]/div[2]/div/form/div/div[2]/div/button\")\n",
    "search_button.click()"
   ]
  },
  {
   "cell_type": "code",
   "execution_count": 138,
   "id": "14bd32f8",
   "metadata": {},
   "outputs": [],
   "source": [
    "# Create Lists\n",
    "job_titles = []\n",
    "job_locations = []\n",
    "company_names = []"
   ]
  },
  {
   "cell_type": "code",
   "execution_count": 139,
   "id": "23b85d98",
   "metadata": {},
   "outputs": [],
   "source": [
    "# Scrape the data for the first 10 jobs\n",
    "\n",
    "total_listings = 20\n",
    "\n",
    "for i in range(1, min(11, total_listings + 1)):\n",
    "    job_title_element = driver.find_element(By.XPATH, f\"(//h2[@itemprop='name'])[{i}]\")\n",
    "    job_titles.append(job_title_element.text)\n",
    "\n",
    "    job_location_element = driver.find_element(By.XPATH, f\"(//div[@class=' jobCard_jobCard_lists_item__YxRkV jobCard_locationIcon__zrWt2'])[{i}]\")\n",
    "    job_locations.append(job_location_element.text)\n",
    "\n",
    "    company_name_element = driver.find_element(By.XPATH, f\"(//div[@class='jobCard_jobCard_cName__mYnow'])[{i}]\")\n",
    "    company_names.append(company_name_element.text)\n"
   ]
  },
  {
   "cell_type": "code",
   "execution_count": 140,
   "id": "9f089950",
   "metadata": {},
   "outputs": [],
   "source": [
    "# Create a dataframe from the data\n",
    "data = {\n",
    "    'Job Title': job_titles,\n",
    "    'Job Location': job_locations,\n",
    "    'Company Name': company_names,\n",
    "}"
   ]
  },
  {
   "cell_type": "code",
   "execution_count": 141,
   "id": "67c54389",
   "metadata": {
    "scrolled": true
   },
   "outputs": [
    {
     "data": {
      "text/html": [
       "<div>\n",
       "<style scoped>\n",
       "    .dataframe tbody tr th:only-of-type {\n",
       "        vertical-align: middle;\n",
       "    }\n",
       "\n",
       "    .dataframe tbody tr th {\n",
       "        vertical-align: top;\n",
       "    }\n",
       "\n",
       "    .dataframe thead th {\n",
       "        text-align: right;\n",
       "    }\n",
       "</style>\n",
       "<table border=\"1\" class=\"dataframe\">\n",
       "  <thead>\n",
       "    <tr style=\"text-align: right;\">\n",
       "      <th></th>\n",
       "      <th>Job Title</th>\n",
       "      <th>Job Location</th>\n",
       "      <th>Company Name</th>\n",
       "    </tr>\n",
       "  </thead>\n",
       "  <tbody>\n",
       "    <tr>\n",
       "      <th>0</th>\n",
       "      <td>Hiring For Data Scientist</td>\n",
       "      <td>Bangalore\\n+15</td>\n",
       "      <td>niharika enterprises</td>\n",
       "    </tr>\n",
       "    <tr>\n",
       "      <th>1</th>\n",
       "      <td>Data Scientist</td>\n",
       "      <td>Bangalore</td>\n",
       "      <td>acme services private limited</td>\n",
       "    </tr>\n",
       "    <tr>\n",
       "      <th>2</th>\n",
       "      <td>Data Scientist</td>\n",
       "      <td>Bangalore</td>\n",
       "      <td>acme services private limited</td>\n",
       "    </tr>\n",
       "    <tr>\n",
       "      <th>3</th>\n",
       "      <td>Data Scientist - (BERT, NLP), Kubeflow (or) ML...</td>\n",
       "      <td>Bangalore\\n+7</td>\n",
       "      <td>gfl recruitment private limited</td>\n",
       "    </tr>\n",
       "    <tr>\n",
       "      <th>4</th>\n",
       "      <td>Data Scientist Senior</td>\n",
       "      <td>Bangalore</td>\n",
       "      <td>fidelity national information servi...</td>\n",
       "    </tr>\n",
       "    <tr>\n",
       "      <th>5</th>\n",
       "      <td>BGSW Sr Data Scientist Template</td>\n",
       "      <td>Bangalore</td>\n",
       "      <td>bosch group</td>\n",
       "    </tr>\n",
       "    <tr>\n",
       "      <th>6</th>\n",
       "      <td>Urgent applicants for Data Scientist for Batte...</td>\n",
       "      <td>Bangalore</td>\n",
       "      <td>bosch group</td>\n",
       "    </tr>\n",
       "    <tr>\n",
       "      <th>7</th>\n",
       "      <td>Data Scientist Architect</td>\n",
       "      <td>Bangalore</td>\n",
       "      <td>fidelity national information servi...</td>\n",
       "    </tr>\n",
       "    <tr>\n",
       "      <th>8</th>\n",
       "      <td>CCB - Risk Data Scientist - Senior Associate</td>\n",
       "      <td>Bangalore</td>\n",
       "      <td>jpmorgan</td>\n",
       "    </tr>\n",
       "    <tr>\n",
       "      <th>9</th>\n",
       "      <td>Sr Data scientist</td>\n",
       "      <td>Bangalore</td>\n",
       "      <td>schneider electric</td>\n",
       "    </tr>\n",
       "  </tbody>\n",
       "</table>\n",
       "</div>"
      ],
      "text/plain": [
       "                                           Job Title    Job Location  \\\n",
       "0                          Hiring For Data Scientist  Bangalore\\n+15   \n",
       "1                                     Data Scientist       Bangalore   \n",
       "2                                     Data Scientist       Bangalore   \n",
       "3  Data Scientist - (BERT, NLP), Kubeflow (or) ML...   Bangalore\\n+7   \n",
       "4                              Data Scientist Senior       Bangalore   \n",
       "5                    BGSW Sr Data Scientist Template       Bangalore   \n",
       "6  Urgent applicants for Data Scientist for Batte...       Bangalore   \n",
       "7                           Data Scientist Architect       Bangalore   \n",
       "8       CCB - Risk Data Scientist - Senior Associate       Bangalore   \n",
       "9                                  Sr Data scientist       Bangalore   \n",
       "\n",
       "                             Company Name  \n",
       "0                    niharika enterprises  \n",
       "1           acme services private limited  \n",
       "2           acme services private limited  \n",
       "3         gfl recruitment private limited  \n",
       "4  fidelity national information servi...  \n",
       "5                             bosch group  \n",
       "6                             bosch group  \n",
       "7  fidelity national information servi...  \n",
       "8                                jpmorgan  \n",
       "9                      schneider electric  "
      ]
     },
     "execution_count": 141,
     "metadata": {},
     "output_type": "execute_result"
    }
   ],
   "source": [
    "# Display DataFrame\n",
    "\n",
    "df = pd.DataFrame(data)\n",
    "\n",
    "df"
   ]
  },
  {
   "cell_type": "code",
   "execution_count": 142,
   "id": "7399ad6a",
   "metadata": {},
   "outputs": [],
   "source": [
    "# Quit the browser\n",
    "driver.quit()"
   ]
  },
  {
   "cell_type": "markdown",
   "id": "26777085",
   "metadata": {},
   "source": [
    "# Question 3"
   ]
  },
  {
   "cell_type": "code",
   "execution_count": 100,
   "id": "559ece02",
   "metadata": {},
   "outputs": [],
   "source": [
    "# Set up the driver\n",
    "driver = webdriver.Chrome()\n",
    "\n",
    "\n",
    "# Load the webpage\n",
    "driver.get(\"https://www.shine.com/\")"
   ]
  },
  {
   "cell_type": "code",
   "execution_count": 101,
   "id": "d6d8b82a",
   "metadata": {},
   "outputs": [],
   "source": [
    "# Click the close button\n",
    "wait = WebDriverWait(driver, 16)\n",
    "\n",
    "close_button = wait.until(EC.visibility_of_element_located((By.XPATH, '/html/body/div[1]/div[2]/div/div/button')))\n",
    "close_button.click()"
   ]
  },
  {
   "cell_type": "code",
   "execution_count": 102,
   "id": "1666069c",
   "metadata": {
    "scrolled": true
   },
   "outputs": [],
   "source": [
    "# Click the search button\n",
    "search_button = driver.find_element(By.XPATH, \"/html/body/div[1]/header[1]/div[3]/div/div/div[1]/div/input\")\n",
    "search_button.click()"
   ]
  },
  {
   "cell_type": "code",
   "execution_count": 103,
   "id": "29ded287",
   "metadata": {},
   "outputs": [],
   "source": [
    "# Enter \"Data Scientist\" in the \"Skill, Designations, Companies\" field\n",
    "skills_field = driver.find_element(By.XPATH, \"/html/body/div[1]/div[4]/div/div[2]/div[2]/div/form/div/div[1]/ul/li[1]/div/input\")\n",
    "skills_field.send_keys(\"Data Scientist\")"
   ]
  },
  {
   "cell_type": "code",
   "execution_count": 104,
   "id": "f30670bc",
   "metadata": {},
   "outputs": [],
   "source": [
    "# Click the search button\n",
    "search_button = driver.find_element(By.XPATH, \"/html/body/div[1]/div[4]/div/div[2]/div[2]/div/form/div/div[2]/div/button\")\n",
    "search_button.click()"
   ]
  },
  {
   "cell_type": "code",
   "execution_count": 76,
   "id": "86144f5f",
   "metadata": {},
   "outputs": [],
   "source": [
    "# Click the close button\n",
    "wait = WebDriverWait(driver, 16)\n",
    "\n",
    "close2_button = wait.until(EC.visibility_of_element_located((By.XPATH, '/html/body/div[1]/div[1]/div[2]/div/div/button')))\n",
    "close2_button.click()"
   ]
  },
  {
   "cell_type": "code",
   "execution_count": 112,
   "id": "89c86c82",
   "metadata": {},
   "outputs": [],
   "source": [
    "# Click the location button\n",
    "location_button = driver.find_element(By.XPATH, \"/html/body/div[1]/div[1]/div[4]/div/div[1]/div/div[2]/div/ul/li[1]/button\")\n",
    "location_button.click()"
   ]
  },
  {
   "cell_type": "code",
   "execution_count": 114,
   "id": "4f41d128",
   "metadata": {},
   "outputs": [],
   "source": [
    "# Click the Delhi button\n",
    "delhi_button = driver.find_element(By.XPATH, '/html/body/div[1]/div[1]/div[4]/div/div[1]/div/div[2]/div[2]/div/div/div/div[3]/div/div/div/ul/li[7]/span/label')\n",
    "delhi_button.click()"
   ]
  },
  {
   "cell_type": "code",
   "execution_count": 115,
   "id": "0e7e1c8d",
   "metadata": {},
   "outputs": [],
   "source": [
    "# Click the Show Results button\n",
    "sresults_button = driver.find_element(By.XPATH, \"/html/body/div[1]/div[1]/div[4]/div/div[1]/div/div[2]/div[2]/div/div/div/div[3]/div/div/div/ul/li[2]/span/label\")\n",
    "sresults_button.click()"
   ]
  },
  {
   "cell_type": "code",
   "execution_count": 119,
   "id": "9ac1a21c",
   "metadata": {},
   "outputs": [],
   "source": [
    "# Click the salary button\n",
    "salary_button = driver.find_element(By.XPATH, \"/html/body/div[1]/div[1]/div[4]/div/div[1]/div/div[2]/div/ul/li[3]/button\")\n",
    "salary_button.click()"
   ]
  },
  {
   "cell_type": "code",
   "execution_count": 124,
   "id": "18b015df",
   "metadata": {},
   "outputs": [],
   "source": [
    "# Click the three/five button\n",
    "three_button = driver.find_element(By.XPATH, \"/html/body/div[1]/div[1]/div[4]/div/div[1]/div/div[2]/div[2]/div/div/div/div[3]/div/div/div/ul/li[3]/span/label\")\n",
    "three_button.click()"
   ]
  },
  {
   "cell_type": "code",
   "execution_count": 126,
   "id": "def7bef6",
   "metadata": {},
   "outputs": [],
   "source": [
    "# Click the Show Results button\n",
    "sresults2_button = driver.find_element(By.XPATH, \"/html/body/div[1]/div[1]/div[4]/div/div[1]/div/div[2]/div[2]/div/div/div/div[4]/button[2]\")\n",
    "sresults2_button.click()"
   ]
  },
  {
   "cell_type": "code",
   "execution_count": 127,
   "id": "088bf146",
   "metadata": {},
   "outputs": [],
   "source": [
    "# Create Lists\n",
    "job_titles = []\n",
    "job_locations = []\n",
    "company_names = []\n",
    "experience_required = []"
   ]
  },
  {
   "cell_type": "code",
   "execution_count": 128,
   "id": "6bad405b",
   "metadata": {},
   "outputs": [],
   "source": [
    "# Scrape the data for the first 10 jobs\n",
    "\n",
    "total_listings = 20\n",
    "\n",
    "for i in range(1, min(11, total_listings + 1)):\n",
    "    job_title_element = driver.find_element(By.XPATH, f\"(//h2[@itemprop='name'])[{i}]\")\n",
    "    job_titles.append(job_title_element.text)\n",
    "\n",
    "    job_location_element = driver.find_element(By.XPATH, f\"(//div[@class=' jobCard_jobCard_lists_item__YxRkV jobCard_locationIcon__zrWt2'])[{i}]\")\n",
    "    job_locations.append(job_location_element.text)\n",
    "\n",
    "    company_name_element = driver.find_element(By.XPATH, f\"(//div[@class='jobCard_jobCard_cName__mYnow'])[{i}]\")\n",
    "    company_names.append(company_name_element.text)\n",
    "\n",
    "    experience_required_element = driver.find_element(By.XPATH, f\"(//div[@class=' jobCard_jobCard_lists_item__YxRkV jobCard_jobIcon__3FB1t'])[{i}]\")\n",
    "    experience_required.append(experience_required_element.text)\n"
   ]
  },
  {
   "cell_type": "code",
   "execution_count": 129,
   "id": "c8a488ea",
   "metadata": {},
   "outputs": [],
   "source": [
    "# Create a dataframe from the data\n",
    "data = {\n",
    "    'Job Title': job_titles,\n",
    "    'Job Location': job_locations,\n",
    "    'Company Name': company_names,\n",
    "    'Experience Required': experience_required\n",
    "}"
   ]
  },
  {
   "cell_type": "code",
   "execution_count": 130,
   "id": "239c51e0",
   "metadata": {
    "scrolled": true
   },
   "outputs": [
    {
     "data": {
      "text/html": [
       "<div>\n",
       "<style scoped>\n",
       "    .dataframe tbody tr th:only-of-type {\n",
       "        vertical-align: middle;\n",
       "    }\n",
       "\n",
       "    .dataframe tbody tr th {\n",
       "        vertical-align: top;\n",
       "    }\n",
       "\n",
       "    .dataframe thead th {\n",
       "        text-align: right;\n",
       "    }\n",
       "</style>\n",
       "<table border=\"1\" class=\"dataframe\">\n",
       "  <thead>\n",
       "    <tr style=\"text-align: right;\">\n",
       "      <th></th>\n",
       "      <th>Job Title</th>\n",
       "      <th>Job Location</th>\n",
       "      <th>Company Name</th>\n",
       "      <th>Experience Required</th>\n",
       "    </tr>\n",
       "  </thead>\n",
       "  <tbody>\n",
       "    <tr>\n",
       "      <th>0</th>\n",
       "      <td>Req. For Data Scientist -Reputed Data Analytic...</td>\n",
       "      <td>Delhi</td>\n",
       "      <td>seven consultancy</td>\n",
       "      <td>2 to 6 Yrs</td>\n",
       "    </tr>\n",
       "    <tr>\n",
       "      <th>1</th>\n",
       "      <td>For Senior Data Scientist-Reputed IT Industry</td>\n",
       "      <td>Delhi</td>\n",
       "      <td>seven consultancy</td>\n",
       "      <td>4 to 8 Yrs</td>\n",
       "    </tr>\n",
       "    <tr>\n",
       "      <th>2</th>\n",
       "      <td>Req. now Data Scientist</td>\n",
       "      <td>Delhi</td>\n",
       "      <td>seven consultancy</td>\n",
       "      <td>3 to 5 Yrs</td>\n",
       "    </tr>\n",
       "    <tr>\n",
       "      <th>3</th>\n",
       "      <td>Req. post for Junior AI Data Scientist-Reputed...</td>\n",
       "      <td>Delhi</td>\n",
       "      <td>seven consultancy</td>\n",
       "      <td>1 to 3 Yrs</td>\n",
       "    </tr>\n",
       "    <tr>\n",
       "      <th>4</th>\n",
       "      <td>Data Scientist</td>\n",
       "      <td>Delhi\\n+6</td>\n",
       "      <td>quiscon biotech</td>\n",
       "      <td>0 to 1 Yr</td>\n",
       "    </tr>\n",
       "    <tr>\n",
       "      <th>5</th>\n",
       "      <td>Data Scientist</td>\n",
       "      <td>Delhi\\n+6</td>\n",
       "      <td>quiscon biotech</td>\n",
       "      <td>0 to 3 Yrs</td>\n",
       "    </tr>\n",
       "    <tr>\n",
       "      <th>6</th>\n",
       "      <td>Data Scientist</td>\n",
       "      <td>Delhi</td>\n",
       "      <td>srinsoft technologies</td>\n",
       "      <td>3 to 5 Yrs</td>\n",
       "    </tr>\n",
       "    <tr>\n",
       "      <th>7</th>\n",
       "      <td>Sr Data Scientist</td>\n",
       "      <td>Delhi</td>\n",
       "      <td>target corporation india pvt ltd</td>\n",
       "      <td>1 to 4 Yrs</td>\n",
       "    </tr>\n",
       "    <tr>\n",
       "      <th>8</th>\n",
       "      <td>Mahindra Comviva - Data Scientist</td>\n",
       "      <td>Delhi\\n+2</td>\n",
       "      <td>comviva</td>\n",
       "      <td>2 to 5 Yrs</td>\n",
       "    </tr>\n",
       "    <tr>\n",
       "      <th>9</th>\n",
       "      <td>Data Scientist</td>\n",
       "      <td>Delhi</td>\n",
       "      <td>skyleaf consultants</td>\n",
       "      <td>3 to 6 Yrs</td>\n",
       "    </tr>\n",
       "  </tbody>\n",
       "</table>\n",
       "</div>"
      ],
      "text/plain": [
       "                                           Job Title Job Location  \\\n",
       "0  Req. For Data Scientist -Reputed Data Analytic...        Delhi   \n",
       "1      For Senior Data Scientist-Reputed IT Industry        Delhi   \n",
       "2                            Req. now Data Scientist        Delhi   \n",
       "3  Req. post for Junior AI Data Scientist-Reputed...        Delhi   \n",
       "4                                     Data Scientist    Delhi\\n+6   \n",
       "5                                     Data Scientist    Delhi\\n+6   \n",
       "6                                     Data Scientist        Delhi   \n",
       "7                                  Sr Data Scientist        Delhi   \n",
       "8                  Mahindra Comviva - Data Scientist    Delhi\\n+2   \n",
       "9                                     Data Scientist        Delhi   \n",
       "\n",
       "                       Company Name Experience Required  \n",
       "0                 seven consultancy          2 to 6 Yrs  \n",
       "1                 seven consultancy          4 to 8 Yrs  \n",
       "2                 seven consultancy          3 to 5 Yrs  \n",
       "3                 seven consultancy          1 to 3 Yrs  \n",
       "4                   quiscon biotech           0 to 1 Yr  \n",
       "5                   quiscon biotech          0 to 3 Yrs  \n",
       "6             srinsoft technologies          3 to 5 Yrs  \n",
       "7  target corporation india pvt ltd          1 to 4 Yrs  \n",
       "8                           comviva          2 to 5 Yrs  \n",
       "9               skyleaf consultants          3 to 6 Yrs  "
      ]
     },
     "execution_count": 130,
     "metadata": {},
     "output_type": "execute_result"
    }
   ],
   "source": [
    "# Display DataFrame\n",
    "\n",
    "df = pd.DataFrame(data)\n",
    "\n",
    "df"
   ]
  },
  {
   "cell_type": "code",
   "execution_count": 131,
   "id": "3a096c83",
   "metadata": {},
   "outputs": [],
   "source": [
    "# Quit the browser\n",
    "driver.quit()"
   ]
  },
  {
   "cell_type": "markdown",
   "id": "737bcf11",
   "metadata": {},
   "source": [
    "# Question 4"
   ]
  },
  {
   "cell_type": "code",
   "execution_count": 143,
   "id": "5d570753",
   "metadata": {},
   "outputs": [],
   "source": [
    "# Set up the driver\n",
    "driver = webdriver.Chrome()\n",
    "\n",
    "\n",
    "# Load the webpage\n",
    "driver.get(\"https://www.flipkart.com/\")"
   ]
  },
  {
   "cell_type": "code",
   "execution_count": 144,
   "id": "105330cc",
   "metadata": {},
   "outputs": [],
   "source": [
    "# Click the close button\n",
    "close_button = driver.find_element(By.XPATH,'/html/body/div[2]/div/div/button')\n",
    "close_button.click()"
   ]
  },
  {
   "cell_type": "code",
   "execution_count": 145,
   "id": "799a9dc2",
   "metadata": {},
   "outputs": [],
   "source": [
    "# Enter \"sunglasses\" in the search field and click the search icon\n",
    "search_field = driver.find_element(By.CLASS_NAME, \"_3704LK\")\n",
    "search_field.send_keys(\"sunglasses\")"
   ]
  },
  {
   "cell_type": "code",
   "execution_count": 146,
   "id": "9aa921e4",
   "metadata": {},
   "outputs": [],
   "source": [
    "search_field.send_keys(Keys.RETURN)"
   ]
  },
  {
   "cell_type": "code",
   "execution_count": 186,
   "id": "686c34e4",
   "metadata": {},
   "outputs": [],
   "source": [
    "# Create lists\n",
    "\n",
    "brands = []\n",
    "product_descriptions = []\n",
    "prices = []\n",
    "percents_off = []"
   ]
  },
  {
   "cell_type": "code",
   "execution_count": 187,
   "id": "632e656c",
   "metadata": {},
   "outputs": [],
   "source": [
    "# Scrape the data for the first 100 sunglasses brand\n",
    "\n",
    "start = 0\n",
    "end = 3\n",
    "maxi = 100\n",
    "\n",
    "for page in range(start, end):\n",
    "    while len(percents_off) < maxi:\n",
    "        try:\n",
    "            wait = WebDriverWait(driver, 10)\n",
    "            brand = wait.until(EC.presence_of_all_elements_located((By.CLASS_NAME, '_2WkVRV')))\n",
    "            for i in brand:\n",
    "                brands.append(i.text)\n",
    "                if len(brands) == maxi:\n",
    "                    break\n",
    "            prod = wait.until(EC.presence_of_all_elements_located((By.CLASS_NAME, 'IRpwTa')))\n",
    "            for i in prod:\n",
    "                product_descriptions.append(i.text)\n",
    "                if len(product_descriptions) == maxi:\n",
    "                    break\n",
    "            price = wait.until(EC.presence_of_all_elements_located((By.CLASS_NAME, '_30jeq3')))\n",
    "            for i in price:\n",
    "                prices.append(i.text)\n",
    "                if len(prices) == maxi:\n",
    "                    break\n",
    "            percent = wait.until(EC.presence_of_all_elements_located((By.CLASS_NAME, '_3Ay6Sb')))\n",
    "            for i in percent:\n",
    "                percents_off.append(i.text)\n",
    "                if len(percents_off) == maxi:\n",
    "                    break\n",
    "            next_button = wait.until(EC.element_to_be_clickable((By.CLASS_NAME, '_1LKTO3')))\n",
    "            next_button.click()\n",
    "            time.sleep(5)\n",
    "        except (NoSuchElementException, NoSuchWindowException):\n",
    "            driver.refresh()\n",
    "            time.sleep(5)"
   ]
  },
  {
   "cell_type": "code",
   "execution_count": 188,
   "id": "b74a4576",
   "metadata": {},
   "outputs": [],
   "source": [
    "# Create a dataframe of the scraped data\n",
    "data = {\n",
    "    'Brand': brands,\n",
    "    'Product Description': product_descriptions,\n",
    "    'Price': prices,\n",
    "    'Percent Off': percents_off\n",
    "}"
   ]
  },
  {
   "cell_type": "code",
   "execution_count": 189,
   "id": "6f8c47e8",
   "metadata": {},
   "outputs": [],
   "source": [
    "df = pd.DataFrame(data)"
   ]
  },
  {
   "cell_type": "code",
   "execution_count": 190,
   "id": "de1d7535",
   "metadata": {
    "scrolled": false
   },
   "outputs": [
    {
     "data": {
      "text/html": [
       "<div>\n",
       "<style scoped>\n",
       "    .dataframe tbody tr th:only-of-type {\n",
       "        vertical-align: middle;\n",
       "    }\n",
       "\n",
       "    .dataframe tbody tr th {\n",
       "        vertical-align: top;\n",
       "    }\n",
       "\n",
       "    .dataframe thead th {\n",
       "        text-align: right;\n",
       "    }\n",
       "</style>\n",
       "<table border=\"1\" class=\"dataframe\">\n",
       "  <thead>\n",
       "    <tr style=\"text-align: right;\">\n",
       "      <th></th>\n",
       "      <th>Brand</th>\n",
       "      <th>Product Description</th>\n",
       "      <th>Price</th>\n",
       "      <th>Percent Off</th>\n",
       "    </tr>\n",
       "  </thead>\n",
       "  <tbody>\n",
       "    <tr>\n",
       "      <th>0</th>\n",
       "      <td>Elligator</td>\n",
       "      <td>Others Cat-eye, Retro Square, Wayfarer Sunglas...</td>\n",
       "      <td>₹149</td>\n",
       "      <td>87% off</td>\n",
       "    </tr>\n",
       "    <tr>\n",
       "      <th>1</th>\n",
       "      <td>DEIXELS</td>\n",
       "      <td>Polarized, UV Protection, Riding Glasses Wayfa...</td>\n",
       "      <td>₹211</td>\n",
       "      <td>64% off</td>\n",
       "    </tr>\n",
       "    <tr>\n",
       "      <th>2</th>\n",
       "      <td>SUNBEE</td>\n",
       "      <td>UV Protection, Polarized, Mirrored Retro Squar...</td>\n",
       "      <td>₹259</td>\n",
       "      <td>80% off</td>\n",
       "    </tr>\n",
       "    <tr>\n",
       "      <th>3</th>\n",
       "      <td>VINCENT CHASE</td>\n",
       "      <td>by Lenskart Polarized, UV Protection Wayfarer ...</td>\n",
       "      <td>₹688</td>\n",
       "      <td>72% off</td>\n",
       "    </tr>\n",
       "    <tr>\n",
       "      <th>4</th>\n",
       "      <td>NuVew</td>\n",
       "      <td>UV Protection Aviator Sunglasses (57)</td>\n",
       "      <td>₹125</td>\n",
       "      <td>83% off</td>\n",
       "    </tr>\n",
       "    <tr>\n",
       "      <th>...</th>\n",
       "      <td>...</td>\n",
       "      <td>...</td>\n",
       "      <td>...</td>\n",
       "      <td>...</td>\n",
       "    </tr>\n",
       "    <tr>\n",
       "      <th>95</th>\n",
       "      <td>VINCENT CHASE</td>\n",
       "      <td>by Lenskart Polarized, UV Protection Round Sun...</td>\n",
       "      <td>₹258</td>\n",
       "      <td>63% off</td>\n",
       "    </tr>\n",
       "    <tr>\n",
       "      <th>96</th>\n",
       "      <td>Fastrack</td>\n",
       "      <td>UV Protection Aviator Sunglasses (58)</td>\n",
       "      <td>₹449</td>\n",
       "      <td>77% off</td>\n",
       "    </tr>\n",
       "    <tr>\n",
       "      <th>97</th>\n",
       "      <td>PIRASO</td>\n",
       "      <td>UV Protection Butterfly Sunglasses (60)</td>\n",
       "      <td>₹781</td>\n",
       "      <td>60% off</td>\n",
       "    </tr>\n",
       "    <tr>\n",
       "      <th>98</th>\n",
       "      <td>Fastrack</td>\n",
       "      <td>Gradient, UV Protection Wayfarer Sunglasses (F...</td>\n",
       "      <td>₹284</td>\n",
       "      <td>81% off</td>\n",
       "    </tr>\n",
       "    <tr>\n",
       "      <th>99</th>\n",
       "      <td>VINCENT CHASE</td>\n",
       "      <td>UV Protection Round Sunglasses (47)</td>\n",
       "      <td>₹259</td>\n",
       "      <td>80% off</td>\n",
       "    </tr>\n",
       "  </tbody>\n",
       "</table>\n",
       "<p>100 rows × 4 columns</p>\n",
       "</div>"
      ],
      "text/plain": [
       "            Brand                                Product Description Price  \\\n",
       "0       Elligator  Others Cat-eye, Retro Square, Wayfarer Sunglas...  ₹149   \n",
       "1         DEIXELS  Polarized, UV Protection, Riding Glasses Wayfa...  ₹211   \n",
       "2          SUNBEE  UV Protection, Polarized, Mirrored Retro Squar...  ₹259   \n",
       "3   VINCENT CHASE  by Lenskart Polarized, UV Protection Wayfarer ...  ₹688   \n",
       "4           NuVew              UV Protection Aviator Sunglasses (57)  ₹125   \n",
       "..            ...                                                ...   ...   \n",
       "95  VINCENT CHASE  by Lenskart Polarized, UV Protection Round Sun...  ₹258   \n",
       "96       Fastrack              UV Protection Aviator Sunglasses (58)  ₹449   \n",
       "97         PIRASO            UV Protection Butterfly Sunglasses (60)  ₹781   \n",
       "98       Fastrack  Gradient, UV Protection Wayfarer Sunglasses (F...  ₹284   \n",
       "99  VINCENT CHASE                UV Protection Round Sunglasses (47)  ₹259   \n",
       "\n",
       "   Percent Off  \n",
       "0      87% off  \n",
       "1      64% off  \n",
       "2      80% off  \n",
       "3      72% off  \n",
       "4      83% off  \n",
       "..         ...  \n",
       "95     63% off  \n",
       "96     77% off  \n",
       "97     60% off  \n",
       "98     81% off  \n",
       "99     80% off  \n",
       "\n",
       "[100 rows x 4 columns]"
      ]
     },
     "execution_count": 190,
     "metadata": {},
     "output_type": "execute_result"
    }
   ],
   "source": [
    "df"
   ]
  },
  {
   "cell_type": "code",
   "execution_count": 191,
   "id": "399b495c",
   "metadata": {},
   "outputs": [],
   "source": [
    "# Quit the browser\n",
    "driver.quit()"
   ]
  },
  {
   "cell_type": "markdown",
   "id": "8fe23bb2",
   "metadata": {},
   "source": [
    "# Question 5"
   ]
  },
  {
   "cell_type": "code",
   "execution_count": 192,
   "id": "2af23136",
   "metadata": {},
   "outputs": [],
   "source": [
    "# Set up the driver\n",
    "driver = webdriver.Chrome()\n",
    "\n",
    "\n",
    "# Load the webpage\n",
    "driver.get(\"https://www.flipkart.com/apple-iphone-11-black-64-gb/product-reviews/itm4e5041ba101fd?pid=MOBFWQ6BXGJCEYNY&lid=LSTMOBFWQ6BXGJCEYNYZXSHRJ&market\")"
   ]
  },
  {
   "cell_type": "code",
   "execution_count": 193,
   "id": "21b9af2b",
   "metadata": {},
   "outputs": [],
   "source": [
    "# Create the lists\n",
    "\n",
    "ratings = []\n",
    "review_summaries = []\n",
    "full_reviews = []"
   ]
  },
  {
   "cell_type": "code",
   "execution_count": 198,
   "id": "d5a91294",
   "metadata": {
    "scrolled": true
   },
   "outputs": [],
   "source": [
    "# Scrape the data for the first 100 reviews of iPhone\n",
    "\n",
    "start = 0\n",
    "end = 11\n",
    "maxi = 100\n",
    "\n",
    "for page in range(start, end):\n",
    "    while len(full_reviews) < maxi:\n",
    "        try:\n",
    "            wait = WebDriverWait(driver, 10)\n",
    "            rating = wait.until(EC.presence_of_all_elements_located((By.XPATH, \"//div[@class='_3LWZlK _1BLPMq']\")))\n",
    "            for i in rating:\n",
    "                ratings.append(i.text)\n",
    "                if len(ratings) == maxi:\n",
    "                    break\n",
    "            summary = wait.until(EC.presence_of_all_elements_located((By.CLASS_NAME, '_2-N8zT')))\n",
    "            for i in summary:\n",
    "                review_summaries.append(i.text)\n",
    "                if len(review_summaries) == maxi:\n",
    "                    break\n",
    "            full = wait.until(EC.presence_of_all_elements_located((By.CLASS_NAME, 't-ZTKy')))\n",
    "            for i in full:\n",
    "                full_reviews.append(i.text)\n",
    "                if len(full_reviews) == maxi:\n",
    "                    break\n",
    "            next_button = wait.until(EC.element_to_be_clickable((By.CLASS_NAME, '_1LKTO3')))\n",
    "            next_button.click()\n",
    "            time.sleep(5)\n",
    "        except (NoSuchElementException, NoSuchWindowException):\n",
    "            driver.refresh()\n",
    "            time.sleep(5)"
   ]
  },
  {
   "cell_type": "code",
   "execution_count": 199,
   "id": "e9dfa170",
   "metadata": {},
   "outputs": [],
   "source": [
    "# Create a dataframe of the scraped data\n",
    "data = {\n",
    "    'Rating': ratings,\n",
    "    'Review Summary': review_summaries,\n",
    "    'Full Review': full_reviews\n",
    "}"
   ]
  },
  {
   "cell_type": "code",
   "execution_count": 200,
   "id": "abfebbf8",
   "metadata": {},
   "outputs": [
    {
     "data": {
      "text/html": [
       "<div>\n",
       "<style scoped>\n",
       "    .dataframe tbody tr th:only-of-type {\n",
       "        vertical-align: middle;\n",
       "    }\n",
       "\n",
       "    .dataframe tbody tr th {\n",
       "        vertical-align: top;\n",
       "    }\n",
       "\n",
       "    .dataframe thead th {\n",
       "        text-align: right;\n",
       "    }\n",
       "</style>\n",
       "<table border=\"1\" class=\"dataframe\">\n",
       "  <thead>\n",
       "    <tr style=\"text-align: right;\">\n",
       "      <th></th>\n",
       "      <th>Rating</th>\n",
       "      <th>Review Summary</th>\n",
       "      <th>Full Review</th>\n",
       "    </tr>\n",
       "  </thead>\n",
       "  <tbody>\n",
       "    <tr>\n",
       "      <th>0</th>\n",
       "      <td>5</td>\n",
       "      <td>Simply awesome</td>\n",
       "      <td>Really satisfied with the Product I received.....</td>\n",
       "    </tr>\n",
       "    <tr>\n",
       "      <th>1</th>\n",
       "      <td>5</td>\n",
       "      <td>Perfect product!</td>\n",
       "      <td>Amazing phone with great cameras and better ba...</td>\n",
       "    </tr>\n",
       "    <tr>\n",
       "      <th>2</th>\n",
       "      <td>5</td>\n",
       "      <td>Best in the market!</td>\n",
       "      <td>Great iPhone very snappy experience as apple k...</td>\n",
       "    </tr>\n",
       "    <tr>\n",
       "      <th>3</th>\n",
       "      <td>4</td>\n",
       "      <td>Value-for-money</td>\n",
       "      <td>I'm Really happy with the product\\nDelivery wa...</td>\n",
       "    </tr>\n",
       "    <tr>\n",
       "      <th>4</th>\n",
       "      <td>5</td>\n",
       "      <td>Highly recommended</td>\n",
       "      <td>It's my first time to use iOS phone and I am l...</td>\n",
       "    </tr>\n",
       "    <tr>\n",
       "      <th>...</th>\n",
       "      <td>...</td>\n",
       "      <td>...</td>\n",
       "      <td>...</td>\n",
       "    </tr>\n",
       "    <tr>\n",
       "      <th>95</th>\n",
       "      <td>5</td>\n",
       "      <td>Perfect product!</td>\n",
       "      <td>Value for money❤️❤️\\nIts awesome mobile phone ...</td>\n",
       "    </tr>\n",
       "    <tr>\n",
       "      <th>96</th>\n",
       "      <td>5</td>\n",
       "      <td>Highly recommended</td>\n",
       "      <td>iphone 11 is a very good phone to buy only if ...</td>\n",
       "    </tr>\n",
       "    <tr>\n",
       "      <th>97</th>\n",
       "      <td>5</td>\n",
       "      <td>Highly recommended</td>\n",
       "      <td>Amazing camera quality as expected, battery al...</td>\n",
       "    </tr>\n",
       "    <tr>\n",
       "      <th>98</th>\n",
       "      <td>4</td>\n",
       "      <td>Value-for-money</td>\n",
       "      <td>Just got this iphone 11\\nAnd it is most powerf...</td>\n",
       "    </tr>\n",
       "    <tr>\n",
       "      <th>99</th>\n",
       "      <td>5</td>\n",
       "      <td>Perfect product!</td>\n",
       "      <td>It is just awesome mobile for this price from ...</td>\n",
       "    </tr>\n",
       "  </tbody>\n",
       "</table>\n",
       "<p>100 rows × 3 columns</p>\n",
       "</div>"
      ],
      "text/plain": [
       "   Rating       Review Summary  \\\n",
       "0       5       Simply awesome   \n",
       "1       5     Perfect product!   \n",
       "2       5  Best in the market!   \n",
       "3       4      Value-for-money   \n",
       "4       5   Highly recommended   \n",
       "..    ...                  ...   \n",
       "95      5     Perfect product!   \n",
       "96      5   Highly recommended   \n",
       "97      5   Highly recommended   \n",
       "98      4      Value-for-money   \n",
       "99      5     Perfect product!   \n",
       "\n",
       "                                          Full Review  \n",
       "0   Really satisfied with the Product I received.....  \n",
       "1   Amazing phone with great cameras and better ba...  \n",
       "2   Great iPhone very snappy experience as apple k...  \n",
       "3   I'm Really happy with the product\\nDelivery wa...  \n",
       "4   It's my first time to use iOS phone and I am l...  \n",
       "..                                                ...  \n",
       "95  Value for money❤️❤️\\nIts awesome mobile phone ...  \n",
       "96  iphone 11 is a very good phone to buy only if ...  \n",
       "97  Amazing camera quality as expected, battery al...  \n",
       "98  Just got this iphone 11\\nAnd it is most powerf...  \n",
       "99  It is just awesome mobile for this price from ...  \n",
       "\n",
       "[100 rows x 3 columns]"
      ]
     },
     "execution_count": 200,
     "metadata": {},
     "output_type": "execute_result"
    }
   ],
   "source": [
    "df = pd.DataFrame(data)\n",
    "df"
   ]
  },
  {
   "cell_type": "code",
   "execution_count": 201,
   "id": "698d7fe2",
   "metadata": {},
   "outputs": [],
   "source": [
    "# Quit the browser\n",
    "driver.quit()"
   ]
  },
  {
   "cell_type": "markdown",
   "id": "0cfc34d3",
   "metadata": {},
   "source": [
    "# Question 6"
   ]
  },
  {
   "cell_type": "code",
   "execution_count": 203,
   "id": "3b4291e9",
   "metadata": {},
   "outputs": [],
   "source": [
    "# Set up the driver\n",
    "driver = webdriver.Chrome()\n",
    "\n",
    "\n",
    "# Load the webpage\n",
    "driver.get(\"https://www.flipkart.com/\")"
   ]
  },
  {
   "cell_type": "code",
   "execution_count": 204,
   "id": "6444ffcd",
   "metadata": {},
   "outputs": [],
   "source": [
    "# Click the close button\n",
    "close_button = driver.find_element(By.XPATH,'/html/body/div[2]/div/div/button')\n",
    "close_button.click()"
   ]
  },
  {
   "cell_type": "code",
   "execution_count": 205,
   "id": "d02adc41",
   "metadata": {},
   "outputs": [],
   "source": [
    "# Enter \"sneakers\" in the search field and click the search icon\n",
    "search_field = driver.find_element(By.CLASS_NAME, \"_3704LK\")\n",
    "search_field.send_keys(\"sneakers\")"
   ]
  },
  {
   "cell_type": "code",
   "execution_count": 206,
   "id": "0d4fc4ce",
   "metadata": {},
   "outputs": [],
   "source": [
    "search_field.send_keys(Keys.RETURN)"
   ]
  },
  {
   "cell_type": "code",
   "execution_count": 207,
   "id": "98e51d36",
   "metadata": {},
   "outputs": [],
   "source": [
    "# Create lists\n",
    "\n",
    "brands = []\n",
    "product_descriptions = []\n",
    "prices = []"
   ]
  },
  {
   "cell_type": "code",
   "execution_count": 212,
   "id": "03d18a22",
   "metadata": {},
   "outputs": [],
   "source": [
    "# Scrape the data for the first 100 sunglasses brand\n",
    "\n",
    "start = 0\n",
    "end = 3\n",
    "maxi = 100\n",
    "\n",
    "for page in range(start, end):\n",
    "    while len(prices) < maxi:\n",
    "        try:\n",
    "            wait = WebDriverWait(driver, 10)\n",
    "            brand = wait.until(EC.presence_of_all_elements_located((By.CLASS_NAME, '_2WkVRV')))\n",
    "            for i in brand:\n",
    "                brands.append(i.text)\n",
    "                if len(brands) == maxi:\n",
    "                    break\n",
    "            prod = wait.until(EC.presence_of_all_elements_located((By.CLASS_NAME, 'IRpwTa')))\n",
    "            for i in prod:\n",
    "                product_descriptions.append(i.text)\n",
    "                if len(product_descriptions) == maxi:\n",
    "                    break\n",
    "            price = wait.until(EC.presence_of_all_elements_located((By.CLASS_NAME, '_30jeq3')))\n",
    "            for i in price:\n",
    "                prices.append(i.text)\n",
    "                if len(prices) == maxi:\n",
    "                    break\n",
    "            next_button = wait.until(EC.element_to_be_clickable((By.CLASS_NAME, '_1LKTO3')))\n",
    "            next_button.click()\n",
    "            time.sleep(5)\n",
    "        except (NoSuchElementException, NoSuchWindowException):\n",
    "            driver.refresh()\n",
    "            time.sleep(5)"
   ]
  },
  {
   "cell_type": "code",
   "execution_count": 213,
   "id": "4357a3ec",
   "metadata": {},
   "outputs": [],
   "source": [
    "# Create a dataframe of the scraped data\n",
    "data = {\n",
    "    'Brand': brands,\n",
    "    'Product Description': product_descriptions,\n",
    "    'Price': prices,\n",
    "    'Percent Off': percents_off\n",
    "}"
   ]
  },
  {
   "cell_type": "code",
   "execution_count": 214,
   "id": "981536eb",
   "metadata": {},
   "outputs": [
    {
     "data": {
      "text/html": [
       "<div>\n",
       "<style scoped>\n",
       "    .dataframe tbody tr th:only-of-type {\n",
       "        vertical-align: middle;\n",
       "    }\n",
       "\n",
       "    .dataframe tbody tr th {\n",
       "        vertical-align: top;\n",
       "    }\n",
       "\n",
       "    .dataframe thead th {\n",
       "        text-align: right;\n",
       "    }\n",
       "</style>\n",
       "<table border=\"1\" class=\"dataframe\">\n",
       "  <thead>\n",
       "    <tr style=\"text-align: right;\">\n",
       "      <th></th>\n",
       "      <th>Brand</th>\n",
       "      <th>Product Description</th>\n",
       "      <th>Price</th>\n",
       "      <th>Percent Off</th>\n",
       "    </tr>\n",
       "  </thead>\n",
       "  <tbody>\n",
       "    <tr>\n",
       "      <th>0</th>\n",
       "      <td>New Balance</td>\n",
       "      <td>500 Sneakers For Men</td>\n",
       "      <td>₹4,670</td>\n",
       "      <td>87% off</td>\n",
       "    </tr>\n",
       "    <tr>\n",
       "      <th>1</th>\n",
       "      <td>New Balance</td>\n",
       "      <td>9060 Sneakers For Men</td>\n",
       "      <td>₹23,999</td>\n",
       "      <td>64% off</td>\n",
       "    </tr>\n",
       "    <tr>\n",
       "      <th>2</th>\n",
       "      <td>Labbin</td>\n",
       "      <td>Sneakers For Men</td>\n",
       "      <td>₹349</td>\n",
       "      <td>80% off</td>\n",
       "    </tr>\n",
       "    <tr>\n",
       "      <th>3</th>\n",
       "      <td>PUMA</td>\n",
       "      <td>Hustle V2 Sneakers For Men</td>\n",
       "      <td>₹1,379</td>\n",
       "      <td>72% off</td>\n",
       "    </tr>\n",
       "    <tr>\n",
       "      <th>4</th>\n",
       "      <td>BIRDE</td>\n",
       "      <td>Combo Pack of 2 Casual Shoes Sneakers For Men</td>\n",
       "      <td>₹479</td>\n",
       "      <td>83% off</td>\n",
       "    </tr>\n",
       "    <tr>\n",
       "      <th>...</th>\n",
       "      <td>...</td>\n",
       "      <td>...</td>\n",
       "      <td>...</td>\n",
       "      <td>...</td>\n",
       "    </tr>\n",
       "    <tr>\n",
       "      <th>95</th>\n",
       "      <td>HRX by Hrithik Roshan</td>\n",
       "      <td>HRXLB-2C Sneakers For Men</td>\n",
       "      <td>₹229</td>\n",
       "      <td>63% off</td>\n",
       "    </tr>\n",
       "    <tr>\n",
       "      <th>96</th>\n",
       "      <td>Magnolia</td>\n",
       "      <td>Sneakers For Men</td>\n",
       "      <td>₹499</td>\n",
       "      <td>77% off</td>\n",
       "    </tr>\n",
       "    <tr>\n",
       "      <th>97</th>\n",
       "      <td>U.S. POLO ASSN.</td>\n",
       "      <td>PANAL Sneakers For Men</td>\n",
       "      <td>₹399</td>\n",
       "      <td>60% off</td>\n",
       "    </tr>\n",
       "    <tr>\n",
       "      <th>98</th>\n",
       "      <td>Layasa</td>\n",
       "      <td>Sneakers For Men</td>\n",
       "      <td>₹299</td>\n",
       "      <td>81% off</td>\n",
       "    </tr>\n",
       "    <tr>\n",
       "      <th>99</th>\n",
       "      <td>PUMA</td>\n",
       "      <td>Hustle V2 Sneakers For Men</td>\n",
       "      <td>₹1,374</td>\n",
       "      <td>80% off</td>\n",
       "    </tr>\n",
       "  </tbody>\n",
       "</table>\n",
       "<p>100 rows × 4 columns</p>\n",
       "</div>"
      ],
      "text/plain": [
       "                    Brand                            Product Description  \\\n",
       "0             New Balance                           500 Sneakers For Men   \n",
       "1             New Balance                          9060 Sneakers For Men   \n",
       "2                  Labbin                               Sneakers For Men   \n",
       "3                    PUMA                     Hustle V2 Sneakers For Men   \n",
       "4                   BIRDE  Combo Pack of 2 Casual Shoes Sneakers For Men   \n",
       "..                    ...                                            ...   \n",
       "95  HRX by Hrithik Roshan                      HRXLB-2C Sneakers For Men   \n",
       "96               Magnolia                               Sneakers For Men   \n",
       "97        U.S. POLO ASSN.                         PANAL Sneakers For Men   \n",
       "98                 Layasa                               Sneakers For Men   \n",
       "99                   PUMA                     Hustle V2 Sneakers For Men   \n",
       "\n",
       "      Price Percent Off  \n",
       "0    ₹4,670     87% off  \n",
       "1   ₹23,999     64% off  \n",
       "2      ₹349     80% off  \n",
       "3    ₹1,379     72% off  \n",
       "4      ₹479     83% off  \n",
       "..      ...         ...  \n",
       "95     ₹229     63% off  \n",
       "96     ₹499     77% off  \n",
       "97     ₹399     60% off  \n",
       "98     ₹299     81% off  \n",
       "99   ₹1,374     80% off  \n",
       "\n",
       "[100 rows x 4 columns]"
      ]
     },
     "execution_count": 214,
     "metadata": {},
     "output_type": "execute_result"
    }
   ],
   "source": [
    "df = pd.DataFrame(data)\n",
    "df"
   ]
  },
  {
   "cell_type": "code",
   "execution_count": 215,
   "id": "39fe3742",
   "metadata": {},
   "outputs": [],
   "source": [
    "# Quit the browser\n",
    "driver.quit()"
   ]
  },
  {
   "cell_type": "markdown",
   "id": "04a4988e",
   "metadata": {},
   "source": [
    "# Question 7"
   ]
  },
  {
   "cell_type": "code",
   "execution_count": 217,
   "id": "ec600f80",
   "metadata": {},
   "outputs": [],
   "source": [
    "# Set up the driver\n",
    "driver = webdriver.Chrome()\n",
    "\n",
    "\n",
    "# Load the webpage\n",
    "driver.get(\"https://www.amazon.in/\")"
   ]
  },
  {
   "cell_type": "code",
   "execution_count": 219,
   "id": "45617898",
   "metadata": {},
   "outputs": [],
   "source": [
    "# Enter \"Laptop\" in the search field and click the search icon\n",
    "search_field = driver.find_element(By.XPATH, \"/html/body/div[1]/header/div/div[1]/div[2]/div/form/div[2]/div[1]/input\")\n",
    "search_field.send_keys(\"Laptop\")\n",
    "search_field.send_keys(Keys.RETURN)"
   ]
  },
  {
   "cell_type": "code",
   "execution_count": 221,
   "id": "7d33638a",
   "metadata": {},
   "outputs": [],
   "source": [
    "# Set the CPU Type filter to \"Intel Core i7\"\n",
    "cpu_filter = WebDriverWait(driver, 10).until(\n",
    "    EC.element_to_be_clickable((By.XPATH, \"//span[text()='Intel Core i7']\")))\n",
    "cpu_filter.click()"
   ]
  },
  {
   "cell_type": "code",
   "execution_count": 223,
   "id": "4af00cd9",
   "metadata": {},
   "outputs": [],
   "source": [
    "# Create lists\n",
    "\n",
    "titles = []\n",
    "ratings = []\n",
    "prices = []"
   ]
  },
  {
   "cell_type": "code",
   "execution_count": 225,
   "id": "ddeb70e5",
   "metadata": {},
   "outputs": [],
   "source": [
    "# Scrape the data for the first 10 laptops\n",
    "\n",
    "for i in range(10):\n",
    "    title = driver.find_element(By.XPATH, f\"(//span[@class='a-size-medium a-color-base a-text-normal'])[{i+1}]\")\n",
    "    titles.append(title.text)\n",
    "    \n",
    "    rating = driver.find_element(By.XPATH, f\"(//div[@class='a-section a-spacing-none a-spacing-top-micro']//div[@class='a-row a-size-small'])[{i+1}]\")\n",
    "    ratings.append(rating.text)\n",
    "    \n",
    "    price = driver.find_element(By.XPATH, f\"(//span[@class='a-price-whole'])[{i+1}]\")\n",
    "    prices.append(price.text)"
   ]
  },
  {
   "cell_type": "code",
   "execution_count": 226,
   "id": "82305d09",
   "metadata": {},
   "outputs": [],
   "source": [
    "# Create a dataframe of the scraped data\n",
    "data = {\n",
    "    'Title': titles,\n",
    "    'Rating': ratings,\n",
    "    'Price': prices\n",
    "}"
   ]
  },
  {
   "cell_type": "code",
   "execution_count": 227,
   "id": "2c330c60",
   "metadata": {},
   "outputs": [
    {
     "data": {
      "text/html": [
       "<div>\n",
       "<style scoped>\n",
       "    .dataframe tbody tr th:only-of-type {\n",
       "        vertical-align: middle;\n",
       "    }\n",
       "\n",
       "    .dataframe tbody tr th {\n",
       "        vertical-align: top;\n",
       "    }\n",
       "\n",
       "    .dataframe thead th {\n",
       "        text-align: right;\n",
       "    }\n",
       "</style>\n",
       "<table border=\"1\" class=\"dataframe\">\n",
       "  <thead>\n",
       "    <tr style=\"text-align: right;\">\n",
       "      <th></th>\n",
       "      <th>Title</th>\n",
       "      <th>Rating</th>\n",
       "      <th>Price</th>\n",
       "    </tr>\n",
       "  </thead>\n",
       "  <tbody>\n",
       "    <tr>\n",
       "      <th>0</th>\n",
       "      <td>HP Laptop 15s, 12th Gen Intel Core i7-1255U, 1...</td>\n",
       "      <td>6</td>\n",
       "      <td>70,990</td>\n",
       "    </tr>\n",
       "    <tr>\n",
       "      <th>1</th>\n",
       "      <td>Acer Predator Helios Neo 16 Gaming Laptop 13th...</td>\n",
       "      <td>18</td>\n",
       "      <td>1,29,990</td>\n",
       "    </tr>\n",
       "    <tr>\n",
       "      <th>2</th>\n",
       "      <td>Lenovo ThinkPad E14 Intel Core i7 12th Gen 14\"...</td>\n",
       "      <td>68</td>\n",
       "      <td>98,990</td>\n",
       "    </tr>\n",
       "    <tr>\n",
       "      <th>3</th>\n",
       "      <td>Lenovo IdeaPad Slim 5 Intel Core i7 12th Gen 1...</td>\n",
       "      <td>4</td>\n",
       "      <td>79,990</td>\n",
       "    </tr>\n",
       "    <tr>\n",
       "      <th>4</th>\n",
       "      <td>ASUS TUF Gaming F15 (2023) 90WHr Battery, Inte...</td>\n",
       "      <td>10</td>\n",
       "      <td>1,15,990</td>\n",
       "    </tr>\n",
       "    <tr>\n",
       "      <th>5</th>\n",
       "      <td>MSI Thin GF63, Intel 12th Gen. i7-12650H, 40CM...</td>\n",
       "      <td>326</td>\n",
       "      <td>94,990</td>\n",
       "    </tr>\n",
       "    <tr>\n",
       "      <th>6</th>\n",
       "      <td>HP Envy x360 12th Gen Intel Core i7-13.3 inch(...</td>\n",
       "      <td>492</td>\n",
       "      <td>1,03,990</td>\n",
       "    </tr>\n",
       "    <tr>\n",
       "      <th>7</th>\n",
       "      <td>HP Victus Gaming Latest 12th Gen Intel Core i7...</td>\n",
       "      <td>80</td>\n",
       "      <td>1,01,278</td>\n",
       "    </tr>\n",
       "    <tr>\n",
       "      <th>8</th>\n",
       "      <td>Dell G15-5530 Gaming Laptop, Intel Core i7-136...</td>\n",
       "      <td>163</td>\n",
       "      <td>1,31,860</td>\n",
       "    </tr>\n",
       "    <tr>\n",
       "      <th>9</th>\n",
       "      <td>HP Pavilion 14 12th Gen Intel Core i7 16GB SDR...</td>\n",
       "      <td>118</td>\n",
       "      <td>84,999</td>\n",
       "    </tr>\n",
       "  </tbody>\n",
       "</table>\n",
       "</div>"
      ],
      "text/plain": [
       "                                               Title Rating     Price\n",
       "0  HP Laptop 15s, 12th Gen Intel Core i7-1255U, 1...      6    70,990\n",
       "1  Acer Predator Helios Neo 16 Gaming Laptop 13th...     18  1,29,990\n",
       "2  Lenovo ThinkPad E14 Intel Core i7 12th Gen 14\"...     68    98,990\n",
       "3  Lenovo IdeaPad Slim 5 Intel Core i7 12th Gen 1...      4    79,990\n",
       "4  ASUS TUF Gaming F15 (2023) 90WHr Battery, Inte...     10  1,15,990\n",
       "5  MSI Thin GF63, Intel 12th Gen. i7-12650H, 40CM...    326    94,990\n",
       "6  HP Envy x360 12th Gen Intel Core i7-13.3 inch(...    492  1,03,990\n",
       "7  HP Victus Gaming Latest 12th Gen Intel Core i7...     80  1,01,278\n",
       "8  Dell G15-5530 Gaming Laptop, Intel Core i7-136...    163  1,31,860\n",
       "9  HP Pavilion 14 12th Gen Intel Core i7 16GB SDR...    118    84,999"
      ]
     },
     "execution_count": 227,
     "metadata": {},
     "output_type": "execute_result"
    }
   ],
   "source": [
    "df = pd.DataFrame(data)\n",
    "df"
   ]
  },
  {
   "cell_type": "code",
   "execution_count": 228,
   "id": "9d6bce66",
   "metadata": {},
   "outputs": [],
   "source": [
    "# Quit the browser\n",
    "driver.quit()"
   ]
  },
  {
   "cell_type": "markdown",
   "id": "7245c748",
   "metadata": {},
   "source": [
    "# Question 8"
   ]
  },
  {
   "cell_type": "code",
   "execution_count": 252,
   "id": "8b912522",
   "metadata": {},
   "outputs": [],
   "source": [
    "# Set up the driver\n",
    "driver = webdriver.Chrome()\n",
    "\n",
    "\n",
    "# Load the webpage\n",
    "driver.get(\"https://www.azquotes.com/\")"
   ]
  },
  {
   "cell_type": "code",
   "execution_count": 253,
   "id": "1578e7e9",
   "metadata": {},
   "outputs": [],
   "source": [
    "# Click the top1000 button\n",
    "top1000 = driver.find_element(By.XPATH, \"/html/body/div[1]/div[2]/div[1]/div/div[3]/ul/li[5]/a\")\n",
    "top1000.click()"
   ]
  },
  {
   "cell_type": "code",
   "execution_count": 254,
   "id": "f4e31575",
   "metadata": {},
   "outputs": [],
   "source": [
    "# Create lists\n",
    "\n",
    "quotes = []\n",
    "authors = []\n",
    "types_of_quotes = []"
   ]
  },
  {
   "cell_type": "code",
   "execution_count": 255,
   "id": "0053b9b6",
   "metadata": {},
   "outputs": [],
   "source": [
    "start = 0\n",
    "end = 101\n",
    "maxi = 100\n",
    "\n",
    "for page in range(start, end):\n",
    "    while len(types_of_quotes) < maxi:\n",
    "        try:\n",
    "            wait = WebDriverWait(driver, 10)\n",
    "            quote = wait.until(EC.presence_of_all_elements_located((By.CLASS_NAME, 'title')))\n",
    "            for i in quote:\n",
    "                quotes.append(i.text)\n",
    "                if len(quotes) == maxi:\n",
    "                    break\n",
    "            auth = wait.until(EC.presence_of_all_elements_located((By.CLASS_NAME, 'author')))\n",
    "            for i in auth:\n",
    "                authors.append(i.text)\n",
    "                if len(authors) == maxi:\n",
    "                    break\n",
    "            tag = wait.until(EC.presence_of_all_elements_located((By.CLASS_NAME, 'tags')))\n",
    "            for i in tag:\n",
    "                types_of_quotes.append(i.text)\n",
    "                if len(types_of_quotes) == maxi:\n",
    "                    break\n",
    "        except (NoSuchElementException, NoSuchWindowException):\n",
    "            driver.refresh()\n",
    "            time.sleep(5)"
   ]
  },
  {
   "cell_type": "code",
   "execution_count": 256,
   "id": "d4b6c526",
   "metadata": {},
   "outputs": [],
   "source": [
    "# Create a dataframe of the scraped data\n",
    "data = {\n",
    "    'Quote': quotes,\n",
    "    'Author': authors,\n",
    "    'Type of Quote': types_of_quotes\n",
    "}"
   ]
  },
  {
   "cell_type": "code",
   "execution_count": 261,
   "id": "b09e2b0b",
   "metadata": {},
   "outputs": [
    {
     "data": {
      "text/html": [
       "<div>\n",
       "<style scoped>\n",
       "    .dataframe tbody tr th:only-of-type {\n",
       "        vertical-align: middle;\n",
       "    }\n",
       "\n",
       "    .dataframe tbody tr th {\n",
       "        vertical-align: top;\n",
       "    }\n",
       "\n",
       "    .dataframe thead th {\n",
       "        text-align: right;\n",
       "    }\n",
       "</style>\n",
       "<table border=\"1\" class=\"dataframe\">\n",
       "  <thead>\n",
       "    <tr style=\"text-align: right;\">\n",
       "      <th></th>\n",
       "      <th>Quote</th>\n",
       "      <th>Author</th>\n",
       "      <th>Type of Quote</th>\n",
       "    </tr>\n",
       "  </thead>\n",
       "  <tbody>\n",
       "    <tr>\n",
       "      <th>0</th>\n",
       "      <td>Authors:</td>\n",
       "      <td>Michael Porter</td>\n",
       "      <td>Essence, Deep Thought, Transcendentalism</td>\n",
       "    </tr>\n",
       "    <tr>\n",
       "      <th>1</th>\n",
       "      <td>The essence of strategy is choosing what not t...</td>\n",
       "      <td>Golda Meir</td>\n",
       "      <td>Inspiration, Past, Trying</td>\n",
       "    </tr>\n",
       "    <tr>\n",
       "      <th>2</th>\n",
       "      <td>One cannot and must not try to erase the past ...</td>\n",
       "      <td>Theodore Roosevelt</td>\n",
       "      <td>Country, Peace, War</td>\n",
       "    </tr>\n",
       "    <tr>\n",
       "      <th>3</th>\n",
       "      <td>Patriotism means to stand by the country. It d...</td>\n",
       "      <td>Nelson Mandela</td>\n",
       "      <td>Inspirational, Motivational, Death</td>\n",
       "    </tr>\n",
       "    <tr>\n",
       "      <th>4</th>\n",
       "      <td>Death is something inevitable. When a man has ...</td>\n",
       "      <td>Erma Bombeck</td>\n",
       "      <td>4th Of July, Food, Patriotic</td>\n",
       "    </tr>\n",
       "    <tr>\n",
       "      <th>...</th>\n",
       "      <td>...</td>\n",
       "      <td>...</td>\n",
       "      <td>...</td>\n",
       "    </tr>\n",
       "    <tr>\n",
       "      <th>95</th>\n",
       "      <td>An optimist stays up until midnight to see the...</td>\n",
       "      <td>Hunter S. Thompson</td>\n",
       "      <td>Music, Sports, Hunting</td>\n",
       "    </tr>\n",
       "    <tr>\n",
       "      <th>96</th>\n",
       "      <td>When the going gets weird, the weird turn pro.</td>\n",
       "      <td>Corrie Ten Boom</td>\n",
       "      <td>Trust, Encouraging, Uplifting</td>\n",
       "    </tr>\n",
       "    <tr>\n",
       "      <th>97</th>\n",
       "      <td>When a train goes through a tunnel and it gets...</td>\n",
       "      <td>Dalai Lama</td>\n",
       "      <td>Inspirational, Funny, Change</td>\n",
       "    </tr>\n",
       "    <tr>\n",
       "      <th>98</th>\n",
       "      <td>If you think you are too small to make a diffe...</td>\n",
       "      <td>Mother Teresa</td>\n",
       "      <td>Success, God, Mother</td>\n",
       "    </tr>\n",
       "    <tr>\n",
       "      <th>99</th>\n",
       "      <td>God doesn't require us to succeed, he only req...</td>\n",
       "      <td>Norman Vincent Peale</td>\n",
       "      <td>Inspirational, Motivational, Change</td>\n",
       "    </tr>\n",
       "  </tbody>\n",
       "</table>\n",
       "<p>100 rows × 3 columns</p>\n",
       "</div>"
      ],
      "text/plain": [
       "                                                Quote                Author  \\\n",
       "0                                            Authors:        Michael Porter   \n",
       "1   The essence of strategy is choosing what not t...            Golda Meir   \n",
       "2   One cannot and must not try to erase the past ...    Theodore Roosevelt   \n",
       "3   Patriotism means to stand by the country. It d...        Nelson Mandela   \n",
       "4   Death is something inevitable. When a man has ...          Erma Bombeck   \n",
       "..                                                ...                   ...   \n",
       "95  An optimist stays up until midnight to see the...    Hunter S. Thompson   \n",
       "96     When the going gets weird, the weird turn pro.       Corrie Ten Boom   \n",
       "97  When a train goes through a tunnel and it gets...            Dalai Lama   \n",
       "98  If you think you are too small to make a diffe...         Mother Teresa   \n",
       "99  God doesn't require us to succeed, he only req...  Norman Vincent Peale   \n",
       "\n",
       "                               Type of Quote  \n",
       "0   Essence, Deep Thought, Transcendentalism  \n",
       "1                  Inspiration, Past, Trying  \n",
       "2                        Country, Peace, War  \n",
       "3         Inspirational, Motivational, Death  \n",
       "4               4th Of July, Food, Patriotic  \n",
       "..                                       ...  \n",
       "95                    Music, Sports, Hunting  \n",
       "96             Trust, Encouraging, Uplifting  \n",
       "97              Inspirational, Funny, Change  \n",
       "98                      Success, God, Mother  \n",
       "99       Inspirational, Motivational, Change  \n",
       "\n",
       "[100 rows x 3 columns]"
      ]
     },
     "execution_count": 261,
     "metadata": {},
     "output_type": "execute_result"
    }
   ],
   "source": [
    "df = pd.DataFrame(data)\n",
    "df\n"
   ]
  },
  {
   "cell_type": "code",
   "execution_count": 262,
   "id": "d437a2ec",
   "metadata": {},
   "outputs": [],
   "source": [
    "# Quit the browser\n",
    "driver.quit()"
   ]
  },
  {
   "cell_type": "markdown",
   "id": "3cbbb483",
   "metadata": {},
   "source": [
    "# Question 9"
   ]
  },
  {
   "cell_type": "code",
   "execution_count": 265,
   "id": "c7c60ec3",
   "metadata": {},
   "outputs": [],
   "source": [
    "# Set up the driver\n",
    "driver = webdriver.Chrome()\n",
    "\n",
    "\n",
    "# Load the webpage\n",
    "driver.get(\"https://www.jagranjosh.com/\")"
   ]
  },
  {
   "cell_type": "code",
   "execution_count": 266,
   "id": "cec0c191",
   "metadata": {},
   "outputs": [],
   "source": [
    "# Click the gk button\n",
    "gk = driver.find_element(By.XPATH, \"/html/body/div[3]/nav/div[3]/div/ul/li[8]/a\")\n",
    "gk.click()"
   ]
  },
  {
   "cell_type": "code",
   "execution_count": 267,
   "id": "f4519e20",
   "metadata": {},
   "outputs": [],
   "source": [
    "# Click the pms button\n",
    "pms = driver.find_element(By.XPATH, \"/html/body/div[1]/div/div/div[2]/div/div[10]/div/div/ul/li[2]/a\")\n",
    "pms.click()"
   ]
  },
  {
   "cell_type": "code",
   "execution_count": 276,
   "id": "2a30414b",
   "metadata": {},
   "outputs": [],
   "source": [
    "# Create lists\n",
    "\n",
    "names = []\n",
    "born_deads = []\n",
    "terms_of_office = []\n",
    "remarks = []"
   ]
  },
  {
   "cell_type": "code",
   "execution_count": 282,
   "id": "453d7405",
   "metadata": {},
   "outputs": [],
   "source": [
    "# Get all the rows in the table\n",
    "rows = driver.find_elements(By.XPATH, \"//table[@class='table-box']//tbody/tr\")\n",
    "\n",
    "# Scrape the data for each row\n",
    "for row in rows:\n",
    "    # Get the name\n",
    "    name = row.find_element(By.XPATH, \".//td[1]\")\n",
    "    names.append(name.text)\n",
    "\n",
    "    # Get the born-dead\n",
    "    born_dead = row.find_element(By.XPATH, \".//td[2]\")\n",
    "    born_deads.append(born_dead.text)\n",
    "\n",
    "    # Get the term of office\n",
    "    term_of_office = row.find_element(By.XPATH, \".//td[3]\")\n",
    "    terms_of_office.append(term_of_office.text)\n",
    "\n",
    "    # Get the remarks\n",
    "    remark = row.find_element(By.XPATH, \".//td[4]\")\n",
    "    remarks.append(remark.text)"
   ]
  },
  {
   "cell_type": "code",
   "execution_count": 283,
   "id": "14fb5563",
   "metadata": {},
   "outputs": [],
   "source": [
    "# Create a dataframe of the scraped data\n",
    "data = {\n",
    "    'Name': names,\n",
    "    'Born-Dead': born_deads,\n",
    "    'Term of Office': terms_of_office,\n",
    "    'Remarks': remarks\n",
    "}"
   ]
  },
  {
   "cell_type": "code",
   "execution_count": 284,
   "id": "b61c632f",
   "metadata": {},
   "outputs": [
    {
     "data": {
      "text/html": [
       "<div>\n",
       "<style scoped>\n",
       "    .dataframe tbody tr th:only-of-type {\n",
       "        vertical-align: middle;\n",
       "    }\n",
       "\n",
       "    .dataframe tbody tr th {\n",
       "        vertical-align: top;\n",
       "    }\n",
       "\n",
       "    .dataframe thead th {\n",
       "        text-align: right;\n",
       "    }\n",
       "</style>\n",
       "<table border=\"1\" class=\"dataframe\">\n",
       "  <thead>\n",
       "    <tr style=\"text-align: right;\">\n",
       "      <th></th>\n",
       "      <th>Name</th>\n",
       "      <th>Born-Dead</th>\n",
       "      <th>Term of Office</th>\n",
       "      <th>Remarks</th>\n",
       "    </tr>\n",
       "  </thead>\n",
       "  <tbody>\n",
       "  </tbody>\n",
       "</table>\n",
       "</div>"
      ],
      "text/plain": [
       "Empty DataFrame\n",
       "Columns: [Name, Born-Dead, Term of Office, Remarks]\n",
       "Index: []"
      ]
     },
     "execution_count": 284,
     "metadata": {},
     "output_type": "execute_result"
    }
   ],
   "source": [
    "df = pd.DataFrame(data)\n",
    "df"
   ]
  },
  {
   "cell_type": "code",
   "execution_count": 286,
   "id": "80878ee0",
   "metadata": {},
   "outputs": [],
   "source": [
    "# Quit the browser\n",
    "driver.quit()"
   ]
  },
  {
   "cell_type": "markdown",
   "id": "c4d95412",
   "metadata": {},
   "source": [
    "# Question 10"
   ]
  },
  {
   "cell_type": "code",
   "execution_count": 289,
   "id": "e9cd3757",
   "metadata": {},
   "outputs": [],
   "source": [
    "# Set up the driver\n",
    "driver = webdriver.Chrome()\n",
    "\n",
    "\n",
    "# Load the webpage\n",
    "driver.get(\"https://www.motor1.com/\")"
   ]
  },
  {
   "cell_type": "code",
   "execution_count": 290,
   "id": "22eea145",
   "metadata": {},
   "outputs": [],
   "source": [
    "# Click the close button\n",
    "wait = WebDriverWait(driver, 16)\n",
    "\n",
    "close_button = wait.until(EC.visibility_of_element_located((By.XPATH, '/html/body/div[13]/div[2]/div/div/div[2]/div/div/button')))\n",
    "close_button.click()"
   ]
  },
  {
   "cell_type": "code",
   "execution_count": 295,
   "id": "ef0981a2",
   "metadata": {
    "scrolled": true
   },
   "outputs": [],
   "source": [
    "# Click the search button\n",
    "search_button = driver.find_element(By.XPATH, \"/html/body/div[3]/div[2]/div/div/div[3]/div/div/button\")\n",
    "search_button.click()"
   ]
  },
  {
   "cell_type": "code",
   "execution_count": 296,
   "id": "2c211265",
   "metadata": {},
   "outputs": [],
   "source": [
    "# Enter \"50 most expensive cars\" in search field\n",
    "skills_field = driver.find_element(By.XPATH, \"/html/body/div[3]/div[2]/div/div/div[3]/div/div/div/form/input\")\n",
    "skills_field.send_keys(\"50 most expensive cars\")"
   ]
  },
  {
   "cell_type": "code",
   "execution_count": 297,
   "id": "cf1b7678",
   "metadata": {},
   "outputs": [],
   "source": [
    "# Click the search2 button\n",
    "search2_button = driver.find_element(By.XPATH, \"/html/body/div[3]/div[2]/div/div/div[3]/div/div/div/form/button[1]\")\n",
    "search2_button.click()"
   ]
  },
  {
   "cell_type": "code",
   "execution_count": 305,
   "id": "6051dc40",
   "metadata": {},
   "outputs": [],
   "source": [
    "# Click the article button\n",
    "article = driver.find_element(By.XPATH, \"/html/body/div[3]/div[9]/div/div[1]/div/div/div[2]/div/div[1]/h3/a\")\n",
    "article.click()"
   ]
  },
  {
   "cell_type": "code",
   "execution_count": 334,
   "id": "798aa442",
   "metadata": {},
   "outputs": [],
   "source": [
    "# Create lists\n",
    "car_names = []\n",
    "prices = []"
   ]
  },
  {
   "cell_type": "code",
   "execution_count": 336,
   "id": "236d31c6",
   "metadata": {},
   "outputs": [
    {
     "ename": "InvalidSelectorException",
     "evalue": "Message: invalid selector: Unable to locate an element with the xpath expression I DON'T KNOW because of the following error:\nSyntaxError: Failed to execute 'evaluate' on 'Document': The string 'I DON'T KNOW' is not a valid XPath expression.\n  (Session info: chrome=114.0.5735.91)\nStacktrace:\nBacktrace:\n\tGetHandleVerifier [0x0102A813+48355]\n\t(No symbol) [0x00FBC4B1]\n\t(No symbol) [0x00EC5358]\n\t(No symbol) [0x00EC87A1]\n\t(No symbol) [0x00EC99E1]\n\t(No symbol) [0x00EC9A80]\n\t(No symbol) [0x00EF061C]\n\t(No symbol) [0x00EF0B3B]\n\t(No symbol) [0x00F1E26C]\n\t(No symbol) [0x00F0A784]\n\t(No symbol) [0x00F1C922]\n\t(No symbol) [0x00F0A536]\n\t(No symbol) [0x00EE82DC]\n\t(No symbol) [0x00EE93DD]\n\tGetHandleVerifier [0x0128AABD+2539405]\n\tGetHandleVerifier [0x012CA78F+2800735]\n\tGetHandleVerifier [0x012C456C+2775612]\n\tGetHandleVerifier [0x010B51E0+616112]\n\t(No symbol) [0x00FC5F8C]\n\t(No symbol) [0x00FC2328]\n\t(No symbol) [0x00FC240B]\n\t(No symbol) [0x00FB4FF7]\n\tBaseThreadInitThunk [0x75977D59+25]\n\tRtlInitializeExceptionChain [0x7782B74B+107]\n\tRtlClearBits [0x7782B6CF+191]\n",
     "output_type": "error",
     "traceback": [
      "\u001b[1;31m---------------------------------------------------------------------------\u001b[0m",
      "\u001b[1;31mInvalidSelectorException\u001b[0m                  Traceback (most recent call last)",
      "\u001b[1;32m~\\AppData\\Local\\Temp/ipykernel_16804/1171038639.py\u001b[0m in \u001b[0;36m<module>\u001b[1;34m\u001b[0m\n\u001b[1;32m----> 1\u001b[1;33m \u001b[0mname\u001b[0m \u001b[1;33m=\u001b[0m \u001b[0mwait\u001b[0m\u001b[1;33m.\u001b[0m\u001b[0muntil\u001b[0m\u001b[1;33m(\u001b[0m\u001b[0mEC\u001b[0m\u001b[1;33m.\u001b[0m\u001b[0mpresence_of_all_elements_located\u001b[0m\u001b[1;33m(\u001b[0m\u001b[1;33m(\u001b[0m\u001b[0mBy\u001b[0m\u001b[1;33m.\u001b[0m\u001b[0mXPATH\u001b[0m\u001b[1;33m,\u001b[0m \u001b[1;34m\"I DON'T KNOW\"\u001b[0m\u001b[1;33m)\u001b[0m\u001b[1;33m)\u001b[0m\u001b[1;33m)\u001b[0m\u001b[1;33m\u001b[0m\u001b[1;33m\u001b[0m\u001b[0m\n\u001b[0m\u001b[0;32m      2\u001b[0m \u001b[0mprice\u001b[0m \u001b[1;33m=\u001b[0m \u001b[0mwait\u001b[0m\u001b[1;33m.\u001b[0m\u001b[0muntil\u001b[0m\u001b[1;33m(\u001b[0m\u001b[0mEC\u001b[0m\u001b[1;33m.\u001b[0m\u001b[0mpresence_of_all_elements_located\u001b[0m\u001b[1;33m(\u001b[0m\u001b[1;33m(\u001b[0m\u001b[0mBy\u001b[0m\u001b[1;33m.\u001b[0m\u001b[0mXPATH\u001b[0m\u001b[1;33m,\u001b[0m \u001b[1;34m\"I DON'T KNOW\"\u001b[0m\u001b[1;33m)\u001b[0m\u001b[1;33m)\u001b[0m\u001b[1;33m)\u001b[0m\u001b[1;33m\u001b[0m\u001b[1;33m\u001b[0m\u001b[0m\n\u001b[0;32m      3\u001b[0m \u001b[1;33m\u001b[0m\u001b[0m\n\u001b[0;32m      4\u001b[0m \u001b[1;31m# Extract the text content\u001b[0m\u001b[1;33m\u001b[0m\u001b[1;33m\u001b[0m\u001b[0m\n\u001b[0;32m      5\u001b[0m \u001b[0mcar_names\u001b[0m \u001b[1;33m=\u001b[0m \u001b[1;33m[\u001b[0m\u001b[0mname\u001b[0m\u001b[1;33m.\u001b[0m\u001b[0mtext\u001b[0m \u001b[1;32mfor\u001b[0m \u001b[0mname\u001b[0m \u001b[1;32min\u001b[0m \u001b[0mname\u001b[0m\u001b[1;33m]\u001b[0m\u001b[1;33m\u001b[0m\u001b[1;33m\u001b[0m\u001b[0m\n",
      "\u001b[1;32mC:\\ProgramData\\Anaconda3\\lib\\site-packages\\selenium\\webdriver\\support\\wait.py\u001b[0m in \u001b[0;36muntil\u001b[1;34m(self, method, message)\u001b[0m\n\u001b[0;32m     84\u001b[0m         \u001b[1;32mwhile\u001b[0m \u001b[1;32mTrue\u001b[0m\u001b[1;33m:\u001b[0m\u001b[1;33m\u001b[0m\u001b[1;33m\u001b[0m\u001b[0m\n\u001b[0;32m     85\u001b[0m             \u001b[1;32mtry\u001b[0m\u001b[1;33m:\u001b[0m\u001b[1;33m\u001b[0m\u001b[1;33m\u001b[0m\u001b[0m\n\u001b[1;32m---> 86\u001b[1;33m                 \u001b[0mvalue\u001b[0m \u001b[1;33m=\u001b[0m \u001b[0mmethod\u001b[0m\u001b[1;33m(\u001b[0m\u001b[0mself\u001b[0m\u001b[1;33m.\u001b[0m\u001b[0m_driver\u001b[0m\u001b[1;33m)\u001b[0m\u001b[1;33m\u001b[0m\u001b[1;33m\u001b[0m\u001b[0m\n\u001b[0m\u001b[0;32m     87\u001b[0m                 \u001b[1;32mif\u001b[0m \u001b[0mvalue\u001b[0m\u001b[1;33m:\u001b[0m\u001b[1;33m\u001b[0m\u001b[1;33m\u001b[0m\u001b[0m\n\u001b[0;32m     88\u001b[0m                     \u001b[1;32mreturn\u001b[0m \u001b[0mvalue\u001b[0m\u001b[1;33m\u001b[0m\u001b[1;33m\u001b[0m\u001b[0m\n",
      "\u001b[1;32mC:\\ProgramData\\Anaconda3\\lib\\site-packages\\selenium\\webdriver\\support\\expected_conditions.py\u001b[0m in \u001b[0;36m_predicate\u001b[1;34m(driver)\u001b[0m\n\u001b[0;32m    172\u001b[0m \u001b[1;33m\u001b[0m\u001b[0m\n\u001b[0;32m    173\u001b[0m     \u001b[1;32mdef\u001b[0m \u001b[0m_predicate\u001b[0m\u001b[1;33m(\u001b[0m\u001b[0mdriver\u001b[0m\u001b[1;33m)\u001b[0m\u001b[1;33m:\u001b[0m\u001b[1;33m\u001b[0m\u001b[1;33m\u001b[0m\u001b[0m\n\u001b[1;32m--> 174\u001b[1;33m         \u001b[1;32mreturn\u001b[0m \u001b[0mdriver\u001b[0m\u001b[1;33m.\u001b[0m\u001b[0mfind_elements\u001b[0m\u001b[1;33m(\u001b[0m\u001b[1;33m*\u001b[0m\u001b[0mlocator\u001b[0m\u001b[1;33m)\u001b[0m\u001b[1;33m\u001b[0m\u001b[1;33m\u001b[0m\u001b[0m\n\u001b[0m\u001b[0;32m    175\u001b[0m \u001b[1;33m\u001b[0m\u001b[0m\n\u001b[0;32m    176\u001b[0m     \u001b[1;32mreturn\u001b[0m \u001b[0m_predicate\u001b[0m\u001b[1;33m\u001b[0m\u001b[1;33m\u001b[0m\u001b[0m\n",
      "\u001b[1;32mC:\\ProgramData\\Anaconda3\\lib\\site-packages\\selenium\\webdriver\\remote\\webdriver.py\u001b[0m in \u001b[0;36mfind_elements\u001b[1;34m(self, by, value)\u001b[0m\n\u001b[0;32m    859\u001b[0m         \u001b[1;31m# Return empty list if driver returns null\u001b[0m\u001b[1;33m\u001b[0m\u001b[1;33m\u001b[0m\u001b[0m\n\u001b[0;32m    860\u001b[0m         \u001b[1;31m# See https://github.com/SeleniumHQ/selenium/issues/4555\u001b[0m\u001b[1;33m\u001b[0m\u001b[1;33m\u001b[0m\u001b[0m\n\u001b[1;32m--> 861\u001b[1;33m         \u001b[1;32mreturn\u001b[0m \u001b[0mself\u001b[0m\u001b[1;33m.\u001b[0m\u001b[0mexecute\u001b[0m\u001b[1;33m(\u001b[0m\u001b[0mCommand\u001b[0m\u001b[1;33m.\u001b[0m\u001b[0mFIND_ELEMENTS\u001b[0m\u001b[1;33m,\u001b[0m \u001b[1;33m{\u001b[0m\u001b[1;34m\"using\"\u001b[0m\u001b[1;33m:\u001b[0m \u001b[0mby\u001b[0m\u001b[1;33m,\u001b[0m \u001b[1;34m\"value\"\u001b[0m\u001b[1;33m:\u001b[0m \u001b[0mvalue\u001b[0m\u001b[1;33m}\u001b[0m\u001b[1;33m)\u001b[0m\u001b[1;33m[\u001b[0m\u001b[1;34m\"value\"\u001b[0m\u001b[1;33m]\u001b[0m \u001b[1;32mor\u001b[0m \u001b[1;33m[\u001b[0m\u001b[1;33m]\u001b[0m\u001b[1;33m\u001b[0m\u001b[1;33m\u001b[0m\u001b[0m\n\u001b[0m\u001b[0;32m    862\u001b[0m \u001b[1;33m\u001b[0m\u001b[0m\n\u001b[0;32m    863\u001b[0m     \u001b[1;33m@\u001b[0m\u001b[0mproperty\u001b[0m\u001b[1;33m\u001b[0m\u001b[1;33m\u001b[0m\u001b[0m\n",
      "\u001b[1;32mC:\\ProgramData\\Anaconda3\\lib\\site-packages\\selenium\\webdriver\\remote\\webdriver.py\u001b[0m in \u001b[0;36mexecute\u001b[1;34m(self, driver_command, params)\u001b[0m\n\u001b[0;32m    438\u001b[0m         \u001b[0mresponse\u001b[0m \u001b[1;33m=\u001b[0m \u001b[0mself\u001b[0m\u001b[1;33m.\u001b[0m\u001b[0mcommand_executor\u001b[0m\u001b[1;33m.\u001b[0m\u001b[0mexecute\u001b[0m\u001b[1;33m(\u001b[0m\u001b[0mdriver_command\u001b[0m\u001b[1;33m,\u001b[0m \u001b[0mparams\u001b[0m\u001b[1;33m)\u001b[0m\u001b[1;33m\u001b[0m\u001b[1;33m\u001b[0m\u001b[0m\n\u001b[0;32m    439\u001b[0m         \u001b[1;32mif\u001b[0m \u001b[0mresponse\u001b[0m\u001b[1;33m:\u001b[0m\u001b[1;33m\u001b[0m\u001b[1;33m\u001b[0m\u001b[0m\n\u001b[1;32m--> 440\u001b[1;33m             \u001b[0mself\u001b[0m\u001b[1;33m.\u001b[0m\u001b[0merror_handler\u001b[0m\u001b[1;33m.\u001b[0m\u001b[0mcheck_response\u001b[0m\u001b[1;33m(\u001b[0m\u001b[0mresponse\u001b[0m\u001b[1;33m)\u001b[0m\u001b[1;33m\u001b[0m\u001b[1;33m\u001b[0m\u001b[0m\n\u001b[0m\u001b[0;32m    441\u001b[0m             \u001b[0mresponse\u001b[0m\u001b[1;33m[\u001b[0m\u001b[1;34m\"value\"\u001b[0m\u001b[1;33m]\u001b[0m \u001b[1;33m=\u001b[0m \u001b[0mself\u001b[0m\u001b[1;33m.\u001b[0m\u001b[0m_unwrap_value\u001b[0m\u001b[1;33m(\u001b[0m\u001b[0mresponse\u001b[0m\u001b[1;33m.\u001b[0m\u001b[0mget\u001b[0m\u001b[1;33m(\u001b[0m\u001b[1;34m\"value\"\u001b[0m\u001b[1;33m,\u001b[0m \u001b[1;32mNone\u001b[0m\u001b[1;33m)\u001b[0m\u001b[1;33m)\u001b[0m\u001b[1;33m\u001b[0m\u001b[1;33m\u001b[0m\u001b[0m\n\u001b[0;32m    442\u001b[0m             \u001b[1;32mreturn\u001b[0m \u001b[0mresponse\u001b[0m\u001b[1;33m\u001b[0m\u001b[1;33m\u001b[0m\u001b[0m\n",
      "\u001b[1;32mC:\\ProgramData\\Anaconda3\\lib\\site-packages\\selenium\\webdriver\\remote\\errorhandler.py\u001b[0m in \u001b[0;36mcheck_response\u001b[1;34m(self, response)\u001b[0m\n\u001b[0;32m    243\u001b[0m                 \u001b[0malert_text\u001b[0m \u001b[1;33m=\u001b[0m \u001b[0mvalue\u001b[0m\u001b[1;33m[\u001b[0m\u001b[1;34m\"alert\"\u001b[0m\u001b[1;33m]\u001b[0m\u001b[1;33m.\u001b[0m\u001b[0mget\u001b[0m\u001b[1;33m(\u001b[0m\u001b[1;34m\"text\"\u001b[0m\u001b[1;33m)\u001b[0m\u001b[1;33m\u001b[0m\u001b[1;33m\u001b[0m\u001b[0m\n\u001b[0;32m    244\u001b[0m             \u001b[1;32mraise\u001b[0m \u001b[0mexception_class\u001b[0m\u001b[1;33m(\u001b[0m\u001b[0mmessage\u001b[0m\u001b[1;33m,\u001b[0m \u001b[0mscreen\u001b[0m\u001b[1;33m,\u001b[0m \u001b[0mstacktrace\u001b[0m\u001b[1;33m,\u001b[0m \u001b[0malert_text\u001b[0m\u001b[1;33m)\u001b[0m  \u001b[1;31m# type: ignore[call-arg]  # mypy is not smart enough here\u001b[0m\u001b[1;33m\u001b[0m\u001b[1;33m\u001b[0m\u001b[0m\n\u001b[1;32m--> 245\u001b[1;33m         \u001b[1;32mraise\u001b[0m \u001b[0mexception_class\u001b[0m\u001b[1;33m(\u001b[0m\u001b[0mmessage\u001b[0m\u001b[1;33m,\u001b[0m \u001b[0mscreen\u001b[0m\u001b[1;33m,\u001b[0m \u001b[0mstacktrace\u001b[0m\u001b[1;33m)\u001b[0m\u001b[1;33m\u001b[0m\u001b[1;33m\u001b[0m\u001b[0m\n\u001b[0m",
      "\u001b[1;31mInvalidSelectorException\u001b[0m: Message: invalid selector: Unable to locate an element with the xpath expression I DON'T KNOW because of the following error:\nSyntaxError: Failed to execute 'evaluate' on 'Document': The string 'I DON'T KNOW' is not a valid XPath expression.\n  (Session info: chrome=114.0.5735.91)\nStacktrace:\nBacktrace:\n\tGetHandleVerifier [0x0102A813+48355]\n\t(No symbol) [0x00FBC4B1]\n\t(No symbol) [0x00EC5358]\n\t(No symbol) [0x00EC87A1]\n\t(No symbol) [0x00EC99E1]\n\t(No symbol) [0x00EC9A80]\n\t(No symbol) [0x00EF061C]\n\t(No symbol) [0x00EF0B3B]\n\t(No symbol) [0x00F1E26C]\n\t(No symbol) [0x00F0A784]\n\t(No symbol) [0x00F1C922]\n\t(No symbol) [0x00F0A536]\n\t(No symbol) [0x00EE82DC]\n\t(No symbol) [0x00EE93DD]\n\tGetHandleVerifier [0x0128AABD+2539405]\n\tGetHandleVerifier [0x012CA78F+2800735]\n\tGetHandleVerifier [0x012C456C+2775612]\n\tGetHandleVerifier [0x010B51E0+616112]\n\t(No symbol) [0x00FC5F8C]\n\t(No symbol) [0x00FC2328]\n\t(No symbol) [0x00FC240B]\n\t(No symbol) [0x00FB4FF7]\n\tBaseThreadInitThunk [0x75977D59+25]\n\tRtlInitializeExceptionChain [0x7782B74B+107]\n\tRtlClearBits [0x7782B6CF+191]\n"
     ]
    }
   ],
   "source": [
    "name = wait.until(EC.presence_of_all_elements_located((By.XPATH, \"I DON'T KNOW\")))\n",
    "price = wait.until(EC.presence_of_all_elements_located((By.XPATH, \"I DON'T KNOW\")))\n",
    "\n",
    "# Extract the text content\n",
    "car_names = [name.text for name in name]\n",
    "prices = [price.text for price in price]"
   ]
  },
  {
   "cell_type": "code",
   "execution_count": null,
   "id": "3ef0ab9b",
   "metadata": {},
   "outputs": [],
   "source": [
    "print(len(names), len(prices))"
   ]
  },
  {
   "cell_type": "code",
   "execution_count": 323,
   "id": "6a6394ce",
   "metadata": {},
   "outputs": [],
   "source": [
    "# Create a dataframe of the scraped data\n",
    "data = {\n",
    "    'Car Name': car_names,\n",
    "    'Price': prices\n",
    "}"
   ]
  },
  {
   "cell_type": "code",
   "execution_count": 326,
   "id": "6bc50b31",
   "metadata": {},
   "outputs": [
    {
     "ename": "ValueError",
     "evalue": "All arrays must be of the same length",
     "output_type": "error",
     "traceback": [
      "\u001b[1;31m---------------------------------------------------------------------------\u001b[0m",
      "\u001b[1;31mValueError\u001b[0m                                Traceback (most recent call last)",
      "\u001b[1;32m~\\AppData\\Local\\Temp/ipykernel_16804/291628753.py\u001b[0m in \u001b[0;36m<module>\u001b[1;34m\u001b[0m\n\u001b[1;32m----> 1\u001b[1;33m \u001b[0mdf\u001b[0m \u001b[1;33m=\u001b[0m \u001b[0mpd\u001b[0m\u001b[1;33m.\u001b[0m\u001b[0mDataFrame\u001b[0m\u001b[1;33m(\u001b[0m\u001b[0mdata\u001b[0m\u001b[1;33m)\u001b[0m\u001b[1;33m\u001b[0m\u001b[1;33m\u001b[0m\u001b[0m\n\u001b[0m\u001b[0;32m      2\u001b[0m \u001b[0mdf\u001b[0m\u001b[1;33m\u001b[0m\u001b[1;33m\u001b[0m\u001b[0m\n",
      "\u001b[1;32mC:\\ProgramData\\Anaconda3\\lib\\site-packages\\pandas\\core\\frame.py\u001b[0m in \u001b[0;36m__init__\u001b[1;34m(self, data, index, columns, dtype, copy)\u001b[0m\n\u001b[0;32m    612\u001b[0m         \u001b[1;32melif\u001b[0m \u001b[0misinstance\u001b[0m\u001b[1;33m(\u001b[0m\u001b[0mdata\u001b[0m\u001b[1;33m,\u001b[0m \u001b[0mdict\u001b[0m\u001b[1;33m)\u001b[0m\u001b[1;33m:\u001b[0m\u001b[1;33m\u001b[0m\u001b[1;33m\u001b[0m\u001b[0m\n\u001b[0;32m    613\u001b[0m             \u001b[1;31m# GH#38939 de facto copy defaults to False only in non-dict cases\u001b[0m\u001b[1;33m\u001b[0m\u001b[1;33m\u001b[0m\u001b[0m\n\u001b[1;32m--> 614\u001b[1;33m             \u001b[0mmgr\u001b[0m \u001b[1;33m=\u001b[0m \u001b[0mdict_to_mgr\u001b[0m\u001b[1;33m(\u001b[0m\u001b[0mdata\u001b[0m\u001b[1;33m,\u001b[0m \u001b[0mindex\u001b[0m\u001b[1;33m,\u001b[0m \u001b[0mcolumns\u001b[0m\u001b[1;33m,\u001b[0m \u001b[0mdtype\u001b[0m\u001b[1;33m=\u001b[0m\u001b[0mdtype\u001b[0m\u001b[1;33m,\u001b[0m \u001b[0mcopy\u001b[0m\u001b[1;33m=\u001b[0m\u001b[0mcopy\u001b[0m\u001b[1;33m,\u001b[0m \u001b[0mtyp\u001b[0m\u001b[1;33m=\u001b[0m\u001b[0mmanager\u001b[0m\u001b[1;33m)\u001b[0m\u001b[1;33m\u001b[0m\u001b[1;33m\u001b[0m\u001b[0m\n\u001b[0m\u001b[0;32m    615\u001b[0m         \u001b[1;32melif\u001b[0m \u001b[0misinstance\u001b[0m\u001b[1;33m(\u001b[0m\u001b[0mdata\u001b[0m\u001b[1;33m,\u001b[0m \u001b[0mma\u001b[0m\u001b[1;33m.\u001b[0m\u001b[0mMaskedArray\u001b[0m\u001b[1;33m)\u001b[0m\u001b[1;33m:\u001b[0m\u001b[1;33m\u001b[0m\u001b[1;33m\u001b[0m\u001b[0m\n\u001b[0;32m    616\u001b[0m             \u001b[1;32mimport\u001b[0m \u001b[0mnumpy\u001b[0m\u001b[1;33m.\u001b[0m\u001b[0mma\u001b[0m\u001b[1;33m.\u001b[0m\u001b[0mmrecords\u001b[0m \u001b[1;32mas\u001b[0m \u001b[0mmrecords\u001b[0m\u001b[1;33m\u001b[0m\u001b[1;33m\u001b[0m\u001b[0m\n",
      "\u001b[1;32mC:\\ProgramData\\Anaconda3\\lib\\site-packages\\pandas\\core\\internals\\construction.py\u001b[0m in \u001b[0;36mdict_to_mgr\u001b[1;34m(data, index, columns, dtype, typ, copy)\u001b[0m\n\u001b[0;32m    462\u001b[0m         \u001b[1;31m# TODO: can we get rid of the dt64tz special case above?\u001b[0m\u001b[1;33m\u001b[0m\u001b[1;33m\u001b[0m\u001b[0m\n\u001b[0;32m    463\u001b[0m \u001b[1;33m\u001b[0m\u001b[0m\n\u001b[1;32m--> 464\u001b[1;33m     return arrays_to_mgr(\n\u001b[0m\u001b[0;32m    465\u001b[0m         \u001b[0marrays\u001b[0m\u001b[1;33m,\u001b[0m \u001b[0mdata_names\u001b[0m\u001b[1;33m,\u001b[0m \u001b[0mindex\u001b[0m\u001b[1;33m,\u001b[0m \u001b[0mcolumns\u001b[0m\u001b[1;33m,\u001b[0m \u001b[0mdtype\u001b[0m\u001b[1;33m=\u001b[0m\u001b[0mdtype\u001b[0m\u001b[1;33m,\u001b[0m \u001b[0mtyp\u001b[0m\u001b[1;33m=\u001b[0m\u001b[0mtyp\u001b[0m\u001b[1;33m,\u001b[0m \u001b[0mconsolidate\u001b[0m\u001b[1;33m=\u001b[0m\u001b[0mcopy\u001b[0m\u001b[1;33m\u001b[0m\u001b[1;33m\u001b[0m\u001b[0m\n\u001b[0;32m    466\u001b[0m     )\n",
      "\u001b[1;32mC:\\ProgramData\\Anaconda3\\lib\\site-packages\\pandas\\core\\internals\\construction.py\u001b[0m in \u001b[0;36marrays_to_mgr\u001b[1;34m(arrays, arr_names, index, columns, dtype, verify_integrity, typ, consolidate)\u001b[0m\n\u001b[0;32m    117\u001b[0m         \u001b[1;31m# figure out the index, if necessary\u001b[0m\u001b[1;33m\u001b[0m\u001b[1;33m\u001b[0m\u001b[0m\n\u001b[0;32m    118\u001b[0m         \u001b[1;32mif\u001b[0m \u001b[0mindex\u001b[0m \u001b[1;32mis\u001b[0m \u001b[1;32mNone\u001b[0m\u001b[1;33m:\u001b[0m\u001b[1;33m\u001b[0m\u001b[1;33m\u001b[0m\u001b[0m\n\u001b[1;32m--> 119\u001b[1;33m             \u001b[0mindex\u001b[0m \u001b[1;33m=\u001b[0m \u001b[0m_extract_index\u001b[0m\u001b[1;33m(\u001b[0m\u001b[0marrays\u001b[0m\u001b[1;33m)\u001b[0m\u001b[1;33m\u001b[0m\u001b[1;33m\u001b[0m\u001b[0m\n\u001b[0m\u001b[0;32m    120\u001b[0m         \u001b[1;32melse\u001b[0m\u001b[1;33m:\u001b[0m\u001b[1;33m\u001b[0m\u001b[1;33m\u001b[0m\u001b[0m\n\u001b[0;32m    121\u001b[0m             \u001b[0mindex\u001b[0m \u001b[1;33m=\u001b[0m \u001b[0mensure_index\u001b[0m\u001b[1;33m(\u001b[0m\u001b[0mindex\u001b[0m\u001b[1;33m)\u001b[0m\u001b[1;33m\u001b[0m\u001b[1;33m\u001b[0m\u001b[0m\n",
      "\u001b[1;32mC:\\ProgramData\\Anaconda3\\lib\\site-packages\\pandas\\core\\internals\\construction.py\u001b[0m in \u001b[0;36m_extract_index\u001b[1;34m(data)\u001b[0m\n\u001b[0;32m    633\u001b[0m             \u001b[0mlengths\u001b[0m \u001b[1;33m=\u001b[0m \u001b[0mlist\u001b[0m\u001b[1;33m(\u001b[0m\u001b[0mset\u001b[0m\u001b[1;33m(\u001b[0m\u001b[0mraw_lengths\u001b[0m\u001b[1;33m)\u001b[0m\u001b[1;33m)\u001b[0m\u001b[1;33m\u001b[0m\u001b[1;33m\u001b[0m\u001b[0m\n\u001b[0;32m    634\u001b[0m             \u001b[1;32mif\u001b[0m \u001b[0mlen\u001b[0m\u001b[1;33m(\u001b[0m\u001b[0mlengths\u001b[0m\u001b[1;33m)\u001b[0m \u001b[1;33m>\u001b[0m \u001b[1;36m1\u001b[0m\u001b[1;33m:\u001b[0m\u001b[1;33m\u001b[0m\u001b[1;33m\u001b[0m\u001b[0m\n\u001b[1;32m--> 635\u001b[1;33m                 \u001b[1;32mraise\u001b[0m \u001b[0mValueError\u001b[0m\u001b[1;33m(\u001b[0m\u001b[1;34m\"All arrays must be of the same length\"\u001b[0m\u001b[1;33m)\u001b[0m\u001b[1;33m\u001b[0m\u001b[1;33m\u001b[0m\u001b[0m\n\u001b[0m\u001b[0;32m    636\u001b[0m \u001b[1;33m\u001b[0m\u001b[0m\n\u001b[0;32m    637\u001b[0m             \u001b[1;32mif\u001b[0m \u001b[0mhave_dicts\u001b[0m\u001b[1;33m:\u001b[0m\u001b[1;33m\u001b[0m\u001b[1;33m\u001b[0m\u001b[0m\n",
      "\u001b[1;31mValueError\u001b[0m: All arrays must be of the same length"
     ]
    }
   ],
   "source": [
    "df = pd.DataFrame(data)\n",
    "df"
   ]
  },
  {
   "cell_type": "code",
   "execution_count": 131,
   "id": "8b8aa728",
   "metadata": {},
   "outputs": [],
   "source": [
    "# Quit the browser\n",
    "driver.quit()"
   ]
  }
 ],
 "metadata": {
  "kernelspec": {
   "display_name": "Python 3 (ipykernel)",
   "language": "python",
   "name": "python3"
  },
  "language_info": {
   "codemirror_mode": {
    "name": "ipython",
    "version": 3
   },
   "file_extension": ".py",
   "mimetype": "text/x-python",
   "name": "python",
   "nbconvert_exporter": "python",
   "pygments_lexer": "ipython3",
   "version": "3.9.7"
  }
 },
 "nbformat": 4,
 "nbformat_minor": 5
}
