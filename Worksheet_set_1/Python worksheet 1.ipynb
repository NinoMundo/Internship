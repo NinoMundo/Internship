{
 "cells": [
  {
   "cell_type": "code",
   "execution_count": 8,
   "id": "c1c71315",
   "metadata": {},
   "outputs": [],
   "source": [
    "#Question 1\n",
    "## Answer = C) %"
   ]
  },
  {
   "cell_type": "code",
   "execution_count": 9,
   "id": "c3c5e380",
   "metadata": {},
   "outputs": [],
   "source": [
    "#Question 2\n",
    "## Answer = B) 0"
   ]
  },
  {
   "cell_type": "code",
   "execution_count": 10,
   "id": "e69a2bf2",
   "metadata": {},
   "outputs": [
    {
     "data": {
      "text/plain": [
       "0"
      ]
     },
     "execution_count": 10,
     "metadata": {},
     "output_type": "execute_result"
    }
   ],
   "source": [
    "2//3"
   ]
  },
  {
   "cell_type": "code",
   "execution_count": 11,
   "id": "b0b2b3c1",
   "metadata": {},
   "outputs": [],
   "source": [
    "#Question 3\n",
    "## Answer = C) 24"
   ]
  },
  {
   "cell_type": "code",
   "execution_count": 12,
   "id": "569618d3",
   "metadata": {},
   "outputs": [
    {
     "data": {
      "text/plain": [
       "24"
      ]
     },
     "execution_count": 12,
     "metadata": {},
     "output_type": "execute_result"
    }
   ],
   "source": [
    "6<<2"
   ]
  },
  {
   "cell_type": "code",
   "execution_count": 13,
   "id": "13a166e5",
   "metadata": {},
   "outputs": [],
   "source": [
    "#Question 4\n",
    "## Answer = A) 2"
   ]
  },
  {
   "cell_type": "code",
   "execution_count": 14,
   "id": "40b5cde4",
   "metadata": {},
   "outputs": [
    {
     "data": {
      "text/plain": [
       "2"
      ]
     },
     "execution_count": 14,
     "metadata": {},
     "output_type": "execute_result"
    }
   ],
   "source": [
    "6&2"
   ]
  },
  {
   "cell_type": "code",
   "execution_count": 15,
   "id": "d69c122f",
   "metadata": {},
   "outputs": [],
   "source": [
    "#Question 5\n",
    "## Answer = D) 6"
   ]
  },
  {
   "cell_type": "code",
   "execution_count": 16,
   "id": "5694108d",
   "metadata": {},
   "outputs": [
    {
     "data": {
      "text/plain": [
       "6"
      ]
     },
     "execution_count": 16,
     "metadata": {},
     "output_type": "execute_result"
    }
   ],
   "source": [
    "6|2"
   ]
  },
  {
   "cell_type": "code",
   "execution_count": 22,
   "id": "17912533",
   "metadata": {},
   "outputs": [],
   "source": [
    "#Question 6\n",
    "## Answer = B) It encloses the lines of code which will be executed if any error occurs while executing the lines of code in the try block."
   ]
  },
  {
   "cell_type": "code",
   "execution_count": 23,
   "id": "82fdee3a",
   "metadata": {},
   "outputs": [],
   "source": [
    "#Question 7\n",
    "## Answer = A) It is used to raise an exception."
   ]
  },
  {
   "cell_type": "code",
   "execution_count": 24,
   "id": "66ef41b1",
   "metadata": {},
   "outputs": [],
   "source": [
    "#Question 8\n",
    "## Answer = C) in defining a generator"
   ]
  },
  {
   "cell_type": "code",
   "execution_count": 27,
   "id": "58703e77",
   "metadata": {},
   "outputs": [],
   "source": [
    "#Question 9\n",
    "## Answer = A), B), C)"
   ]
  },
  {
   "cell_type": "code",
   "execution_count": 28,
   "id": "5480f81d",
   "metadata": {},
   "outputs": [],
   "source": [
    "#Question 10\n",
    "## Answer = A), B)"
   ]
  },
  {
   "cell_type": "code",
   "execution_count": null,
   "id": "32fd9fcb",
   "metadata": {},
   "outputs": [],
   "source": [
    "#Question 11\n",
    "## Write a python program to find the factorial of a number."
   ]
  },
  {
   "cell_type": "code",
   "execution_count": 1,
   "id": "df245fa9",
   "metadata": {
    "scrolled": true
   },
   "outputs": [
    {
     "name": "stdout",
     "output_type": "stream",
     "text": [
      "Please input your factorial number: n\n",
      "Error, your entry was not a number. Please enter a number.\n",
      "Please input your factorial number: 4\n",
      "The factorial of 4 is 24.\n"
     ]
    }
   ],
   "source": [
    "def factorial(x):\n",
    "    if x == 0:\n",
    "        return 1\n",
    "    else:\n",
    "        return x * factorial(x-1)\n",
    "\n",
    "while True:\n",
    "    try:\n",
    "        fnum = int(input(\"Please input your factorial number: \"))\n",
    "        break\n",
    "    except ValueError:\n",
    "        print(\"Error, your entry was not a number. Please enter a number.\")\n",
    "answer = factorial(fnum)\n",
    "print(f\"The factorial of {fnum} is {answer}.\")"
   ]
  },
  {
   "cell_type": "code",
   "execution_count": null,
   "id": "f56fc281",
   "metadata": {},
   "outputs": [],
   "source": [
    "#Question 12\n",
    "## Write a python program to find whether a number is prime or composite."
   ]
  },
  {
   "cell_type": "code",
   "execution_count": null,
   "id": "84726d2a",
   "metadata": {},
   "outputs": [],
   "source": [
    "def isprime(x):\n",
    "    if x == 0:\n",
    "        return 1\n",
    "    else:\n",
    "        return x * isprime(x-1)\n",
    "\n",
    "num = int(input(\"Please input your number: \"))\n",
    "answer = factorial(fnum)\n",
    "print(f\"The number {num} is a prime number.\")\n",
    "print(f\"The number {num} is a not prime number.\")"
   ]
  },
  {
   "cell_type": "code",
   "execution_count": null,
   "id": "07cfedf5",
   "metadata": {},
   "outputs": [],
   "source": [
    "def isprime(x):\n",
    "    if x <= 1:\n",
    "        return False\n",
    "    for i in range(2, x):\n",
    "        if x % i == 0:\n",
    "            return False\n",
    "    return True\n",
    "\n",
    "while True:\n",
    "    try:\n",
    "        num = int(input(\"Enter a number: \"))\n",
    "        break\n",
    "    except ValueError:\n",
    "        print(\"Invalid input. Please enter a number.\")\n",
    "\n",
    "if isprime(num):\n",
    "    print(f\"{num} is a prime number.\")\n",
    "else:\n",
    "    print(f\"{num} is a composite number.\")"
   ]
  },
  {
   "cell_type": "code",
   "execution_count": null,
   "id": "b111f568",
   "metadata": {},
   "outputs": [],
   "source": [
    "#Question 13\n",
    "## Write a python program to check whether a given string is palindrome or not."
   ]
  },
  {
   "cell_type": "code",
   "execution_count": 3,
   "id": "1f279891",
   "metadata": {},
   "outputs": [
    {
     "name": "stdout",
     "output_type": "stream",
     "text": [
      "Enter a string: ono\n",
      "ono is a palindrome\n"
     ]
    }
   ],
   "source": [
    "def ispal(x):\n",
    "    return x == x[::-1]\n",
    "\n",
    "x = input(\"Enter a string: \")\n",
    "if ispal(x):\n",
    "    print(x, \"is a palindrome\")\n",
    "else:\n",
    "    print(x, \"is not a palindrome\")"
   ]
  },
  {
   "cell_type": "code",
   "execution_count": null,
   "id": "259ce964",
   "metadata": {},
   "outputs": [],
   "source": [
    "#Question 14\n",
    "## Write a Python program to get the third side of right-angled triangle from two given sides."
   ]
  },
  {
   "cell_type": "code",
   "execution_count": null,
   "id": "19e21d4b",
   "metadata": {},
   "outputs": [],
   "source": [
    "def right_tri(a, b):\n",
    "    return (a**2 + b**2)**0.5\n",
    "\n",
    "a = float(input(\"Enter the first side: \"))\n",
    "b = float(input(\"Enter the second side: \"))\n",
    "\n",
    "c = right_tri(a, b)\n",
    "\n",
    "print(\"The third side is:\", c)\n",
    "\n"
   ]
  },
  {
   "cell_type": "code",
   "execution_count": null,
   "id": "532cd8bd",
   "metadata": {},
   "outputs": [],
   "source": [
    "#Question 15\n",
    "## Write a python program to print the frequency of each of the characters present in a given string."
   ]
  },
  {
   "cell_type": "code",
   "execution_count": null,
   "id": "63732cb1",
   "metadata": {},
   "outputs": [],
   "source": [
    "s = input(\"Enter a string: \")\n",
    "freq = {}\n",
    "\n",
    "for char in s:\n",
    "    if char in freq:\n",
    "        freq[char] += 1\n",
    "    else:\n",
    "        freq[char] = 1\n",
    "\n",
    "for char, count in freq.items():\n",
    "    print(char, count)"
   ]
  }
 ],
 "metadata": {
  "kernelspec": {
   "display_name": "Python 3 (ipykernel)",
   "language": "python",
   "name": "python3"
  },
  "language_info": {
   "codemirror_mode": {
    "name": "ipython",
    "version": 3
   },
   "file_extension": ".py",
   "mimetype": "text/x-python",
   "name": "python",
   "nbconvert_exporter": "python",
   "pygments_lexer": "ipython3",
   "version": "3.9.7"
  }
 },
 "nbformat": 4,
 "nbformat_minor": 5
}
